{
 "cells": [
  {
   "cell_type": "markdown",
   "id": "6790d9cb",
   "metadata": {
    "toc-hr-collapsed": false
   },
   "source": [
    "# Logistic Regression "
   ]
  },
  {
   "cell_type": "code",
   "execution_count": null,
   "id": "14f90a04",
   "metadata": {},
   "outputs": [],
   "source": [
    "import warnings; \n",
    "warnings.filterwarnings(\"ignore\")\n",
    "warnings.simplefilter(action=\"ignore\",category=UserWarning)\n",
    "warnings.simplefilter(action=\"ignore\",category=FutureWarning)\n",
    "\n",
    "import matplotlib.pyplot as plt\n",
    "#plt.style.use('ggplot')\n",
    "plt.style.use('seaborn-v0_8-muted')\n",
    "plt.rcParams['figure.figsize'] = (5, 5)\n",
    "plt.rcParams['grid.linestyle'] = ':'   \n",
    "plt.rcParams['axes.grid'] = False\n",
    "\n",
    "import seaborn as sns\n",
    "sns.set_style(\"whitegrid\", {'axes.grid' : False})\n",
    "#sns.color_palette(\"RdBu\", n_colors=10)\n",
    "\n",
    "# Interactive plots embedded within the notebook\n",
    "#%matplotlib notebook \n",
    "# Static images of plots embedded within the notebook\n",
    "# %matplotlib inline   \n",
    "%config InlineBackend.figure_formats = {'png', 'retina'}\n",
    "\n",
    "from IPython.core.interactiveshell import InteractiveShell\n",
    "InteractiveShell.ast_node_interactivity = \"all\"\n",
    "\n",
    "import numpy as np\n",
    "import matplotlib.pyplot as plt\n",
    "import pandas as pd\n",
    "import statsmodels as sm\n",
    "\n",
    "\n",
    "#pd.options.plotting.backend = \"plotly\" \n",
    "# Conflict with options in original matplotlib.\n",
    "\n",
    "print('Numpy version', np.__version__)\n",
    "print('Pandas version', pd.__version__)\n",
    "print('Seaborn version', sns.__version__)\n",
    "print('Statsmodels version', sm.__version__)"
   ]
  },
  {
   "cell_type": "markdown",
   "id": "220a9270",
   "metadata": {},
   "source": [
    "## Binary logistic regression"
   ]
  },
  {
   "cell_type": "code",
   "execution_count": 3,
   "id": "af73dcb0",
   "metadata": {},
   "outputs": [],
   "source": [
    "import pandas as pd\n",
    "import numpy as np\n",
    "import statsmodels.api as sm\n",
    "import statsmodels.formula.api as smf"
   ]
  },
  {
   "cell_type": "markdown",
   "id": "8808a4d4",
   "metadata": {},
   "source": [
    "### Financial status data"
   ]
  },
  {
   "cell_type": "code",
   "execution_count": 4,
   "id": "d2f63de1",
   "metadata": {},
   "outputs": [],
   "source": [
    "fin_df = pd.read_excel('data/supervised-learning.xlsx', \n",
    "                       sheet_name='Financial', usecols=['Status','X1','X2','X3'], header=0)\n"
   ]
  },
  {
   "cell_type": "markdown",
   "id": "7002e36e",
   "metadata": {},
   "source": [
    "Look at the first few rows and summary information using .head() and .info()"
   ]
  },
  {
   "cell_type": "code",
   "execution_count": null,
   "id": "62f30027",
   "metadata": {},
   "outputs": [],
   "source": []
  },
  {
   "cell_type": "markdown",
   "id": "4e67e019",
   "metadata": {},
   "source": [
    "Determine number of classes in the data by using `.value_counts()`"
   ]
  },
  {
   "cell_type": "code",
   "execution_count": null,
   "id": "42a4cb7f",
   "metadata": {},
   "outputs": [],
   "source": [
    "fin_df['Status'].value_counts()"
   ]
  },
  {
   "cell_type": "markdown",
   "id": "ff815d02",
   "metadata": {},
   "source": [
    "Target variable encoding"
   ]
  },
  {
   "cell_type": "code",
   "execution_count": 7,
   "id": "4a8c819c",
   "metadata": {},
   "outputs": [],
   "source": [
    "fin_df['Y'] = fin_df['Status'].replace({\"C1-Solvent\":1, \"C2-Bankrupt\":0}) "
   ]
  },
  {
   "cell_type": "markdown",
   "id": "f4acc463",
   "metadata": {},
   "source": [
    "### Model fitting using statsmodels"
   ]
  },
  {
   "cell_type": "markdown",
   "id": "0e122f66",
   "metadata": {},
   "source": [
    "Fit the model by using the R-style formula.  "
   ]
  },
  {
   "cell_type": "code",
   "execution_count": null,
   "id": "c20b4756",
   "metadata": {},
   "outputs": [],
   "source": [
    "import statsmodels.formula.api as smf\n",
    "\n",
    "formula = 'Y ~ X1+X2+X3'\n",
    "solvent_model = smf.logit(formula = formula, data=fin_df).fit()\n",
    "solvent_model.params"
   ]
  },
  {
   "cell_type": "markdown",
   "id": "c80ee9eb",
   "metadata": {},
   "source": [
    "Predict the probability that a company will be solvent after 2 years.  \n",
    "Calling `predict()` with no argument returns the probabilites of being solvent."
   ]
  },
  {
   "cell_type": "markdown",
   "id": "1cc5d0ff",
   "metadata": {},
   "source": [
    "To make predictions from model fitted using the R-style formula, the input must have columns that match the variables in the formula."
   ]
  },
  {
   "cell_type": "code",
   "execution_count": null,
   "id": "9b641db1",
   "metadata": {},
   "outputs": [],
   "source": [
    "X_fin = fin_df.drop(columns=['Y','Status'], axis=1)\n",
    "X_fin[20:22]\n",
    "predictions = solvent_model.predict(X_fin[20:22])\n",
    "print(predictions)"
   ]
  },
  {
   "cell_type": "markdown",
   "id": "169fcc5c",
   "metadata": {},
   "source": [
    "Fit the mode using the API style (all columns of the inputs are taken)."
   ]
  },
  {
   "cell_type": "code",
   "execution_count": null,
   "id": "4ea1cf44",
   "metadata": {},
   "outputs": [],
   "source": [
    "import statsmodels.api as sm\n",
    "\n",
    "y_fin = fin_df['Y']\n",
    "X_reg = sm.add_constant(fin_df.drop(columns=['Y','Status'], axis=1))\n",
    "solvent_model = sm.Logit(y_fin, X_reg).fit()\n",
    "solvent_model.params"
   ]
  },
  {
   "cell_type": "markdown",
   "id": "529c85ee",
   "metadata": {},
   "source": [
    "Numpy array inputs can be used as the inputs for the model fitted by using the API style."
   ]
  },
  {
   "cell_type": "code",
   "execution_count": null,
   "id": "41cc466e",
   "metadata": {
    "scrolled": true
   },
   "outputs": [],
   "source": [
    "X_fin[20:22]\n",
    "solvent_model.predict(sm.add_constant(X_fin[20:22], has_constant='add'))\n",
    "solvent_model.predict(np.array([[1, 31, 4.2, 0.3],\n",
    "                                [1, 19.2, 1.3, 1.1]]))"
   ]
  },
  {
   "cell_type": "markdown",
   "id": "c6b12a16",
   "metadata": {},
   "source": [
    "### Model inferference \n",
    "Show the inferential statistics of the fitted coefficients using `.summary2()`.  \n",
    "The model should be refitted if the intercept is not significant."
   ]
  },
  {
   "cell_type": "code",
   "execution_count": null,
   "id": "2bbc31e5",
   "metadata": {},
   "outputs": [],
   "source": []
  },
  {
   "cell_type": "code",
   "execution_count": null,
   "id": "e72a8c95",
   "metadata": {},
   "outputs": [],
   "source": [
    "print(f'Log-likelihood of full model: {solvent_model.llf:.4f}')\n",
    "print(f'Log-likelihood of null model: {solvent_model.llnull:.4f}')\n",
    "print(f'# model parameters: {int(solvent_model.df_model)}')"
   ]
  },
  {
   "cell_type": "markdown",
   "id": "06518a89",
   "metadata": {},
   "source": [
    "### Generate classification report and confusion matrix"
   ]
  },
  {
   "cell_type": "code",
   "execution_count": null,
   "id": "f4acdcae",
   "metadata": {},
   "outputs": [],
   "source": [
    "from sklearn.metrics import confusion_matrix, classification_report\n",
    "\n",
    "predictions = solvent_model.predict()\n",
    "predictions_nominal = [ 0 if x < 0.5 else 1 for x in predictions]\n",
    "predictions_nominal = (solvent_model.predict() > 0.5).astype(\"int32\") \n",
    "\n",
    "print(confusion_matrix(fin_df[\"Y\"], predictions_nominal))\n",
    "print(classification_report(fin_df[\"Y\"], predictions_nominal, digits = 3))"
   ]
  },
  {
   "cell_type": "markdown",
   "id": "09ff630d",
   "metadata": {},
   "source": [
    "## Logistic regression using Sklearn"
   ]
  },
  {
   "cell_type": "code",
   "execution_count": null,
   "id": "9c85f903",
   "metadata": {},
   "outputs": [],
   "source": [
    "# Load data from file to fin_df\n",
    "\n",
    "fin_df = pd.read_excel('data/supervised-learning.xlsx', \n",
    "                       sheet_name='Financial', usecols=['Status','X1','X2','X3'], header=0)\n",
    "y = fin_df['Status']\n",
    "X = fin_df.drop('Status', axis=1)\n",
    "\n",
    "\n",
    "from sklearn.linear_model import LogisticRegression\n",
    "\n",
    "logreg_clf = LogisticRegression(fit_intercept=True, penalty=None)\n",
    "logreg_clf.fit(X, y)"
   ]
  },
  {
   "cell_type": "markdown",
   "id": "cf7ecf53",
   "metadata": {},
   "source": [
    "Make sample predictions"
   ]
  },
  {
   "cell_type": "code",
   "execution_count": null,
   "id": "4938747f",
   "metadata": {},
   "outputs": [],
   "source": [
    "# Predict labels and probabilities\n",
    "logreg_clf.predict(X[:10])\n",
    "logreg_clf.predict_proba(X[:10]).round(3)"
   ]
  },
  {
   "cell_type": "markdown",
   "id": "0ae3313f",
   "metadata": {},
   "source": [
    "Determine the accuracy, confusion matrix, and classification report"
   ]
  },
  {
   "cell_type": "code",
   "execution_count": null,
   "id": "1d0d04dd",
   "metadata": {},
   "outputs": [],
   "source": [
    "from sklearn.metrics import confusion_matrix\n",
    "from sklearn.metrics import classification_report\n",
    "\n",
    "y_pred = logreg_clf.predict(X)\n",
    "\n",
    "y_pred_accuracy = logreg_clf.score(X, y)\n",
    "print(f'Accuracy of logistic regression classifier on train set: {y_pred_accuracy:.2f}')\n",
    "\n",
    "print(confusion_matrix(y, y_pred))\n",
    "print(classification_report(y, y_pred))"
   ]
  }
 ],
 "metadata": {
  "language_info": {
   "name": "python"
  }
 },
 "nbformat": 4,
 "nbformat_minor": 5
}
