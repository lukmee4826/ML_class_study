{
 "cells": [
  {
   "cell_type": "markdown",
   "id": "f8d8acb2",
   "metadata": {},
   "source": [
    "# Clustering Basics"
   ]
  },
  {
   "cell_type": "markdown",
   "id": "9c80bb9e",
   "metadata": {},
   "source": [
    "**Load necessary packages and apply custom configurations**"
   ]
  },
  {
   "cell_type": "code",
   "execution_count": null,
   "id": "f9332461",
   "metadata": {},
   "outputs": [],
   "source": [
    "import warnings; \n",
    "warnings.filterwarnings(\"ignore\")\n",
    "warnings.simplefilter(action=\"ignore\",category=UserWarning)\n",
    "warnings.simplefilter(action=\"ignore\",category=FutureWarning)\n",
    "\n",
    "import matplotlib.pyplot as plt\n",
    "#plt.style.use('ggplot')\n",
    "plt.style.use('seaborn-v0_8-muted')\n",
    "plt.rcParams['figure.figsize'] = (8, 8)\n",
    "plt.rcParams['grid.linestyle'] = ':'   \n",
    "plt.rcParams['axes.grid'] = False\n",
    "\n",
    "import seaborn as sns\n",
    "sns.set_style(\"whitegrid\", {'axes.grid' : False})\n",
    "#sns.color_palette(\"RdBu\", n_colors=10)\n",
    "\n",
    "# Interactive plots embedded within the notebook\n",
    "#%matplotlib notebook \n",
    "# Static images of plots embedded within the notebook\n",
    "# %matplotlib inline   \n",
    "%config InlineBackend.figure_formats = {'png', 'retina'}\n",
    "\n",
    "from IPython.core.interactiveshell import InteractiveShell\n",
    "InteractiveShell.ast_node_interactivity = \"all\"\n",
    "\n",
    "import numpy as np\n",
    "import matplotlib.pyplot as plt\n",
    "import pandas as pd\n",
    "import statsmodels as sm\n",
    "import sklearn as sk\n",
    "\n",
    "#pd.options.plotting.backend = \"plotly\" \n",
    "# Conflict with options in original matplotlib.\n",
    "\n",
    "print('Numpy version', np.__version__)\n",
    "print('Pandas version', pd.__version__)\n",
    "print('Seaborn version', sns.__version__)\n",
    "print('Statsmodels version', sm.__version__)\n",
    "print('Sklearn version', sk.__version__)"
   ]
  },
  {
   "cell_type": "code",
   "execution_count": null,
   "id": "95ad696f",
   "metadata": {},
   "outputs": [],
   "source": [
    "font_size=13\n",
    "params = {'legend.fontsize': 'large',\n",
    "          'figure.figsize': (5,4),\n",
    "          'axes.labelsize': font_size,\n",
    "          'axes.titlesize': font_size,\n",
    "          'xtick.labelsize': font_size*0.8,\n",
    "          'ytick.labelsize': font_size*0.8,\n",
    "          'axes.titlepad': 25}\n",
    "plt.rcParams.update(params)"
   ]
  },
  {
   "cell_type": "markdown",
   "id": "d7effc22",
   "metadata": {},
   "source": [
    "## <font color='orange'>Part I: K-means Clustering<font>"
   ]
  },
  {
   "cell_type": "markdown",
   "id": "6dc1aba9",
   "metadata": {},
   "source": [
    "### Apply K-mean clustering to dataset 1"
   ]
  },
  {
   "cell_type": "code",
   "execution_count": null,
   "id": "a31f90b7",
   "metadata": {},
   "outputs": [],
   "source": []
  },
  {
   "cell_type": "code",
   "execution_count": null,
   "id": "b11a259b",
   "metadata": {},
   "outputs": [],
   "source": []
  },
  {
   "cell_type": "code",
   "execution_count": null,
   "id": "8cc51615",
   "metadata": {},
   "outputs": [],
   "source": []
  },
  {
   "cell_type": "markdown",
   "id": "49a00dbb",
   "metadata": {},
   "source": [
    "### Apply K-mean clustering to dataset 2"
   ]
  },
  {
   "cell_type": "code",
   "execution_count": null,
   "id": "01fcd360",
   "metadata": {},
   "outputs": [],
   "source": []
  },
  {
   "cell_type": "code",
   "execution_count": null,
   "id": "45fa0f44",
   "metadata": {},
   "outputs": [],
   "source": []
  },
  {
   "cell_type": "code",
   "execution_count": null,
   "id": "bd70d687",
   "metadata": {},
   "outputs": [],
   "source": []
  },
  {
   "cell_type": "markdown",
   "id": "57e067c5",
   "metadata": {},
   "source": [
    "### Apply K-mean clustering to dataset 3"
   ]
  },
  {
   "cell_type": "code",
   "execution_count": null,
   "id": "994e1b01",
   "metadata": {},
   "outputs": [],
   "source": []
  },
  {
   "cell_type": "code",
   "execution_count": null,
   "id": "5cadfb7e",
   "metadata": {},
   "outputs": [],
   "source": []
  },
  {
   "cell_type": "code",
   "execution_count": null,
   "id": "30f07a39",
   "metadata": {},
   "outputs": [],
   "source": []
  },
  {
   "cell_type": "markdown",
   "id": "c556e706",
   "metadata": {},
   "source": [
    "### Apply K-mean clustering to dataset 4"
   ]
  },
  {
   "cell_type": "code",
   "execution_count": null,
   "id": "7d466bb9",
   "metadata": {},
   "outputs": [],
   "source": []
  },
  {
   "cell_type": "code",
   "execution_count": null,
   "id": "c78108f9",
   "metadata": {},
   "outputs": [],
   "source": []
  },
  {
   "cell_type": "code",
   "execution_count": null,
   "id": "bad6c4a5",
   "metadata": {},
   "outputs": [],
   "source": []
  },
  {
   "cell_type": "markdown",
   "id": "337f103d",
   "metadata": {},
   "source": [
    "## <font color='darkorange'>Part II: Clustering Wine Data</font>"
   ]
  },
  {
   "cell_type": "markdown",
   "id": "6723edd5",
   "metadata": {},
   "source": [
    "### Load and scale the dataset"
   ]
  },
  {
   "cell_type": "code",
   "execution_count": null,
   "id": "1cbff763",
   "metadata": {},
   "outputs": [],
   "source": []
  },
  {
   "cell_type": "code",
   "execution_count": null,
   "id": "dc04aa35",
   "metadata": {},
   "outputs": [],
   "source": []
  },
  {
   "cell_type": "code",
   "execution_count": null,
   "id": "02cd547f",
   "metadata": {},
   "outputs": [],
   "source": []
  },
  {
   "cell_type": "markdown",
   "id": "2c97bc14",
   "metadata": {},
   "source": [
    "### Apply PCA to the data. \n",
    "\n",
    "Apply PCA with 8 components"
   ]
  },
  {
   "cell_type": "code",
   "execution_count": null,
   "id": "ddf1e63a",
   "metadata": {},
   "outputs": [],
   "source": []
  },
  {
   "cell_type": "markdown",
   "id": "08bc0b98",
   "metadata": {},
   "source": [
    "Show the principal components "
   ]
  },
  {
   "cell_type": "code",
   "execution_count": null,
   "id": "fbbc8b45",
   "metadata": {},
   "outputs": [],
   "source": []
  },
  {
   "cell_type": "markdown",
   "id": "69e2bf4e",
   "metadata": {},
   "source": [
    "<font color='orange'> **Questions**</font>\n",
    "\n",
    "Using threshold 0.35 for the loadings,\n",
    "- What are important features in PC1?\n",
    "- What are important features in PC2? "
   ]
  },
  {
   "cell_type": "markdown",
   "id": "8ca60de6",
   "metadata": {},
   "source": []
  },
  {
   "cell_type": "markdown",
   "id": "cd4a50df",
   "metadata": {},
   "source": [
    "Determine PVE by each PC and the cumulative PVE"
   ]
  },
  {
   "cell_type": "code",
   "execution_count": null,
   "id": "16305b20",
   "metadata": {},
   "outputs": [],
   "source": []
  },
  {
   "cell_type": "markdown",
   "id": "a3b730a3",
   "metadata": {},
   "source": [
    "Apply PCA to reduce the data dimension by using the number of PCs that provides at least 80% of the cumulative PVE."
   ]
  },
  {
   "cell_type": "code",
   "execution_count": null,
   "id": "1b795a4b",
   "metadata": {},
   "outputs": [],
   "source": []
  },
  {
   "cell_type": "markdown",
   "id": "d08371b3",
   "metadata": {},
   "source": [
    "### Applying clustering to PC scores \n",
    "When the original data is high-dimensional, \n",
    "- clustering PC scores could significantly save memory and time. \n",
    "- clustering is easier to visualize by looking at the first few PCs."
   ]
  },
  {
   "cell_type": "markdown",
   "id": "825244ca",
   "metadata": {},
   "source": [
    "Fit K-means with the optimal number of clusters"
   ]
  },
  {
   "cell_type": "code",
   "execution_count": null,
   "id": "d879e83d",
   "metadata": {},
   "outputs": [],
   "source": []
  },
  {
   "cell_type": "markdown",
   "id": "c771d489",
   "metadata": {},
   "source": [
    "### Visualize the clustering "
   ]
  },
  {
   "cell_type": "code",
   "execution_count": null,
   "id": "f089fee8",
   "metadata": {},
   "outputs": [],
   "source": []
  },
  {
   "cell_type": "code",
   "execution_count": null,
   "id": "5cfd0cfe",
   "metadata": {},
   "outputs": [],
   "source": []
  },
  {
   "cell_type": "markdown",
   "id": "b3449ff0",
   "metadata": {},
   "source": [
    "### Insights from the clustering"
   ]
  },
  {
   "cell_type": "markdown",
   "id": "eb8c6d0d",
   "metadata": {},
   "source": [
    "Compute the average of variables in the original scale of each cluster. "
   ]
  },
  {
   "cell_type": "code",
   "execution_count": null,
   "id": "f91d94f0",
   "metadata": {},
   "outputs": [],
   "source": []
  },
  {
   "cell_type": "markdown",
   "id": "0d8917e0",
   "metadata": {},
   "source": [
    "Determine the cluster prototype"
   ]
  },
  {
   "cell_type": "code",
   "execution_count": null,
   "id": "89845714",
   "metadata": {},
   "outputs": [],
   "source": []
  },
  {
   "cell_type": "code",
   "execution_count": null,
   "id": "000c119b",
   "metadata": {},
   "outputs": [],
   "source": []
  },
  {
   "cell_type": "markdown",
   "id": "1fd062d9",
   "metadata": {},
   "source": [
    "### Look at key variables from clustering by using feature importance in decision tree"
   ]
  },
  {
   "cell_type": "code",
   "execution_count": null,
   "id": "b04e3060",
   "metadata": {},
   "outputs": [],
   "source": []
  },
  {
   "cell_type": "markdown",
   "id": "696c8b5f",
   "metadata": {},
   "source": [
    "<font color='orange'> **Question** </font> What are the three most important features that contribute to the clustering?"
   ]
  },
  {
   "cell_type": "markdown",
   "id": "7db3454c",
   "metadata": {},
   "source": []
  }
 ],
 "metadata": {},
 "nbformat": 4,
 "nbformat_minor": 5
}
