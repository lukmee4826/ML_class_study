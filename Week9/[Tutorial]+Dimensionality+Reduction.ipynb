{
 "cells": [
  {
   "cell_type": "code",
   "execution_count": 1,
   "id": "b7bae2c7",
   "metadata": {},
   "outputs": [
    {
     "name": "stdout",
     "output_type": "stream",
     "text": [
      "Python version 3.12.5\n",
      "Numpy version 2.0.2\n",
      "Scipy version 1.14.1\n",
      "Pandas version 2.2.3\n",
      "Matplotlib version 3.9.2\n",
      "Seaborn version 0.13.2\n",
      "Statsmodels version 0.14.2\n"
     ]
    }
   ],
   "source": [
    "import warnings; \n",
    "warnings.filterwarnings(\"ignore\")\n",
    "warnings.simplefilter(action=\"ignore\",category=UserWarning)\n",
    "warnings.simplefilter(action=\"ignore\",category=FutureWarning)\n",
    "\n",
    "# Suppress valuewarning when fitting ARIMA model.\n",
    "from statsmodels.tools.sm_exceptions import ValueWarning\n",
    "warnings.simplefilter('ignore', ValueWarning)\n",
    "\n",
    "\n",
    "# Interactive plots embedded within the notebook\n",
    "#%matplotlib notebook \n",
    "# Static images of plots embedded within the notebook\n",
    "#%matplotlib inline   \n",
    "%config InlineBackend.figure_formats = {'png', 'retina'}\n",
    "\n",
    "from IPython.core.interactiveshell import InteractiveShell\n",
    "InteractiveShell.ast_node_interactivity = \"all\"\n",
    "\n",
    "from scipy import stats\n",
    "\n",
    "import numpy as np\n",
    "import scipy as sp\n",
    "import matplotlib as mpl\n",
    "import matplotlib.pyplot as plt\n",
    "import seaborn as sns\n",
    "import pandas as pd\n",
    "import statsmodels as sm\n",
    "import sklearn as skl\n",
    "from platform import python_version\n",
    "\n",
    "#pd.options.plotting.backend = \"plotly\" \n",
    "# Conflict with options in original matplotlib.\n",
    "\n",
    "print('Python version', python_version())\n",
    "print('Numpy version', np.__version__)\n",
    "print('Scipy version', sp.__version__)\n",
    "print('Pandas version', pd.__version__)\n",
    "print('Matplotlib version', mpl.__version__)\n",
    "print('Seaborn version', sns.__version__)\n",
    "print('Statsmodels version', sm.__version__)\n",
    "###############################################\n",
    "\n",
    "#plt.style.use('ggplot')\n",
    "plt.style.use('seaborn-v0_8-muted')\n",
    "plt.rcParams['figure.figsize'] = (6, 6)\n",
    "plt.rcParams['grid.linestyle'] = ':'   \n",
    "plt.rcParams['axes.grid'] = False\n",
    "\n",
    "sns.set_style(\"whitegrid\", {'axes.grid' : False})\n",
    "#sns.color_palette(\"RdBu\", n_colors=10)\n",
    "#sns.color_palette(\"RdBu_r') # Good for heatmap\n"
   ]
  },
  {
   "cell_type": "markdown",
   "id": "453ab69b",
   "metadata": {},
   "source": [
    "# Eigenvalues and Eigenvectors"
   ]
  },
  {
   "cell_type": "code",
   "execution_count": 2,
   "id": "352c28e5",
   "metadata": {
    "scrolled": true
   },
   "outputs": [
    {
     "data": {
      "text/plain": [
       "array([[ 1, -2],\n",
       "       [ 1,  4]])"
      ]
     },
     "execution_count": 2,
     "metadata": {},
     "output_type": "execute_result"
    }
   ],
   "source": [
    "import numpy as np\n",
    "\n",
    "np.set_printoptions(suppress=True,precision=4)\n",
    "\n",
    "A = np.array([[1,-2],[1,4]])\n",
    "A"
   ]
  },
  {
   "cell_type": "markdown",
   "id": "bfb95a89",
   "metadata": {},
   "source": [
    "Determine eigenpair of square matrix $A$"
   ]
  },
  {
   "cell_type": "code",
   "execution_count": 3,
   "id": "09cd5c00",
   "metadata": {},
   "outputs": [
    {
     "name": "stdout",
     "output_type": "stream",
     "text": [
      "[2. 3.]\n",
      "[[-0.8944  0.7071]\n",
      " [ 0.4472 -0.7071]]\n"
     ]
    }
   ],
   "source": [
    "egval,egvec = np.linalg.eig(A)\n",
    "print(egval)\n",
    "print(egvec)"
   ]
  },
  {
   "cell_type": "markdown",
   "id": "a4cdef7f",
   "metadata": {},
   "source": [
    "Determine norms of the eigenvectors"
   ]
  },
  {
   "cell_type": "code",
   "execution_count": 4,
   "id": "9da042b1",
   "metadata": {},
   "outputs": [
    {
     "data": {
      "text/plain": [
       "np.float64(0.9999999999999999)"
      ]
     },
     "execution_count": 4,
     "metadata": {},
     "output_type": "execute_result"
    },
    {
     "data": {
      "text/plain": [
       "np.float64(0.9999999999999999)"
      ]
     },
     "execution_count": 4,
     "metadata": {},
     "output_type": "execute_result"
    }
   ],
   "source": [
    "np.linalg.norm(egvec[:,0])\n",
    "np.linalg.norm(egvec[:,1])"
   ]
  },
  {
   "cell_type": "markdown",
   "id": "8fd5bb38",
   "metadata": {},
   "source": [
    "Try 3x3 matrix"
   ]
  },
  {
   "cell_type": "code",
   "execution_count": 5,
   "id": "28a668f9",
   "metadata": {},
   "outputs": [],
   "source": [
    "A = np.array([[6,-2,-1],[-2,6,-1],[-1,-1,5]])"
   ]
  },
  {
   "cell_type": "markdown",
   "id": "d8fbe17a",
   "metadata": {},
   "source": [
    "Determine eigenpair of square matrix $A$ and norms of the eigenvectors"
   ]
  },
  {
   "cell_type": "code",
   "execution_count": 6,
   "id": "f4073a46",
   "metadata": {},
   "outputs": [
    {
     "name": "stdout",
     "output_type": "stream",
     "text": [
      "[3. 8. 6.]\n",
      "[[ 0.5774  0.7071 -0.4082]\n",
      " [ 0.5774 -0.7071 -0.4082]\n",
      " [ 0.5774 -0.      0.8165]]\n"
     ]
    },
    {
     "data": {
      "text/plain": [
       "np.float64(0.9999999999999999)"
      ]
     },
     "execution_count": 6,
     "metadata": {},
     "output_type": "execute_result"
    },
    {
     "data": {
      "text/plain": [
       "np.float64(1.0)"
      ]
     },
     "execution_count": 6,
     "metadata": {},
     "output_type": "execute_result"
    }
   ],
   "source": [
    "egval,egvec = np.linalg.eig(A)\n",
    "print(egval)\n",
    "print(egvec)\n",
    "np.linalg.norm(egvec[:,0])\n",
    "np.linalg.norm(egvec[:,1])"
   ]
  }
 ],
 "metadata": {
  "kernelspec": {
   "display_name": "Python 3",
   "language": "python",
   "name": "python3"
  },
  "language_info": {
   "codemirror_mode": {
    "name": "ipython",
    "version": 3
   },
   "file_extension": ".py",
   "mimetype": "text/x-python",
   "name": "python",
   "nbconvert_exporter": "python",
   "pygments_lexer": "ipython3",
   "version": "3.12.5"
  }
 },
 "nbformat": 4,
 "nbformat_minor": 5
}
