{
 "cells": [
  {
   "cell_type": "markdown",
   "id": "addd4dc9",
   "metadata": {},
   "source": [
    "# Representative-based / Prototype-based Clustering"
   ]
  },
  {
   "cell_type": "markdown",
   "id": "f267868a",
   "metadata": {},
   "source": [
    "**Load necessary packages and apply custom configurations**"
   ]
  },
  {
   "cell_type": "code",
   "execution_count": null,
   "id": "a1804e87",
   "metadata": {},
   "outputs": [],
   "source": [
    "import warnings; \n",
    "warnings.filterwarnings(\"ignore\")\n",
    "warnings.simplefilter(action=\"ignore\",category=UserWarning)\n",
    "warnings.simplefilter(action=\"ignore\",category=FutureWarning)\n",
    "\n",
    "import matplotlib.pyplot as plt\n",
    "#plt.style.use('ggplot')\n",
    "plt.style.use('seaborn-v0_8-muted')\n",
    "plt.rcParams['figure.figsize'] = (8, 8)\n",
    "plt.rcParams['grid.linestyle'] = ':'   \n",
    "plt.rcParams['axes.grid'] = False\n",
    "\n",
    "import seaborn as sns\n",
    "sns.set_style(\"whitegrid\", {'axes.grid' : False})\n",
    "#sns.color_palette(\"RdBu\", n_colors=10)\n",
    "\n",
    "# Interactive plots embedded within the notebook\n",
    "#%matplotlib notebook \n",
    "# Static images of plots embedded within the notebook\n",
    "# %matplotlib inline   \n",
    "%config InlineBackend.figure_formats = {'png', 'retina'}\n",
    "\n",
    "from IPython.core.interactiveshell import InteractiveShell\n",
    "InteractiveShell.ast_node_interactivity = \"all\"\n",
    "\n",
    "import numpy as np\n",
    "import matplotlib.pyplot as plt\n",
    "import pandas as pd\n",
    "import statsmodels as sm\n",
    "import sklearn as sk\n",
    "\n",
    "#pd.options.plotting.backend = \"plotly\" \n",
    "# Conflict with options in original matplotlib.\n",
    "\n",
    "print('Numpy version', np.__version__)\n",
    "print('Pandas version', pd.__version__)\n",
    "print('Seaborn version', sns.__version__)\n",
    "print('Statsmodels version', sm.__version__)\n",
    "print('Sklearn version', sk.__version__)"
   ]
  },
  {
   "cell_type": "code",
   "execution_count": null,
   "id": "8fceb555",
   "metadata": {},
   "outputs": [],
   "source": [
    "font_size=13\n",
    "params = {'legend.fontsize': 'large',\n",
    "          'figure.figsize': (5,4),\n",
    "          'axes.labelsize': font_size,\n",
    "          'axes.titlesize': font_size,\n",
    "          'xtick.labelsize': font_size*0.8,\n",
    "          'ytick.labelsize': font_size*0.8,\n",
    "          'axes.titlepad': 25}\n",
    "plt.rcParams.update(params)"
   ]
  },
  {
   "cell_type": "markdown",
   "id": "10222fd2",
   "metadata": {},
   "source": [
    "## K-Means clustering"
   ]
  },
  {
   "cell_type": "markdown",
   "id": "4c85ae53",
   "metadata": {},
   "source": [
    "### Load the data"
   ]
  },
  {
   "cell_type": "code",
   "execution_count": null,
   "id": "0cc4b29d",
   "metadata": {},
   "outputs": [],
   "source": [
    "from sklearn.datasets import make_blobs\n",
    "\n",
    "X, _ = make_blobs(n_samples=800, centers=4, random_state=42)\n",
    "\n",
    "plt.figure(figsize=(5,4))\n",
    "plt.scatter(X[:, 0], X[:, 1]);\n",
    "plt.tight_layout();"
   ]
  },
  {
   "cell_type": "markdown",
   "id": "acd3af28",
   "metadata": {},
   "source": [
    "### Fit K-means model"
   ]
  },
  {
   "cell_type": "markdown",
   "id": "55b07cae",
   "metadata": {},
   "source": [
    "<font color='blue'> Import the KMeans function, specify the number of clusters K and fit the K-means model.  </font>\n",
    "    \n",
    "Run ```pip install --upgrade threadpoolctl==3.1.0``` if fit() generates errors."
   ]
  },
  {
   "cell_type": "code",
   "execution_count": null,
   "id": "29ca60af",
   "metadata": {},
   "outputs": [],
   "source": []
  },
  {
   "cell_type": "markdown",
   "id": "9c455ba7",
   "metadata": {},
   "source": [
    "<font color='blue'>Get the cluster labels, sum of squared distance, and cluster centroids"
   ]
  },
  {
   "cell_type": "code",
   "execution_count": null,
   "id": "27bfac6b",
   "metadata": {},
   "outputs": [],
   "source": []
  },
  {
   "cell_type": "code",
   "execution_count": null,
   "id": "7d3264e0",
   "metadata": {},
   "outputs": [],
   "source": [
    "np.set_printoptions(precision=3)\n",
    "print(f\"Sum of squared errors : {sse:.3f}\")\n",
    "print(f\"\\nCentroids : \\n {centroids}\") "
   ]
  },
  {
   "cell_type": "markdown",
   "id": "3b81628c",
   "metadata": {},
   "source": [
    "### Visualize the clustering "
   ]
  },
  {
   "cell_type": "code",
   "execution_count": null,
   "id": "3dd6b4d5",
   "metadata": {},
   "outputs": [],
   "source": [
    "import matplotlib.pyplot as plt\n",
    "\n",
    "plt.subplots(figsize=(5,4))\n",
    "plt.scatter(X[:, 0], X[:, 1], c=labels, s=5, cmap='Accent')\n",
    "\n",
    "centers = kmeans.cluster_centers_\n",
    "plt.scatter(centers[:, 0], centers[:, 1], c='black', s=200, alpha=0.5);\n",
    "plt.tight_layout();"
   ]
  },
  {
   "cell_type": "markdown",
   "id": "e0336c9e",
   "metadata": {},
   "source": [
    "### Elbow method"
   ]
  },
  {
   "cell_type": "markdown",
   "id": "d42a1871",
   "metadata": {},
   "source": [
    "<font color='blue'>Determine SSE for different number of clusters K"
   ]
  },
  {
   "cell_type": "code",
   "execution_count": null,
   "id": "8d3e4b21",
   "metadata": {},
   "outputs": [],
   "source": []
  },
  {
   "cell_type": "markdown",
   "id": "9b6e9eb6",
   "metadata": {},
   "source": [
    "<font color='blue'>Plot SSE vs. the number of cluster K"
   ]
  },
  {
   "cell_type": "code",
   "execution_count": null,
   "id": "240ca171",
   "metadata": {},
   "outputs": [],
   "source": [
    "_,ax=plt.subplots(figsize=(5,4))\n",
    "ax.plot(list(sse.keys()), list(sse.values()), marker='o', alpha=0.5, ms=8);\n",
    "plt.tight_layout();"
   ]
  },
  {
   "cell_type": "markdown",
   "id": "80c1fd17",
   "metadata": {},
   "source": [
    "### Other Clustering Indices"
   ]
  },
  {
   "cell_type": "markdown",
   "id": "001deb81",
   "metadata": {},
   "source": [
    "<font color='blue'>Silhouette coefficient"
   ]
  },
  {
   "cell_type": "code",
   "execution_count": null,
   "id": "9114a8d5",
   "metadata": {},
   "outputs": [],
   "source": []
  },
  {
   "cell_type": "markdown",
   "id": "b5b94aeb",
   "metadata": {},
   "source": [
    "<font color='blue'>Calinski Harabasz Index"
   ]
  },
  {
   "cell_type": "code",
   "execution_count": null,
   "id": "4bfb32d3",
   "metadata": {},
   "outputs": [],
   "source": []
  },
  {
   "cell_type": "markdown",
   "id": "f61c4b1e",
   "metadata": {},
   "source": [
    "<font color=blue> Davies-Bouldin Index </font>"
   ]
  },
  {
   "cell_type": "code",
   "execution_count": null,
   "id": "e549aaa4",
   "metadata": {},
   "outputs": [],
   "source": [
    "from sklearn.metrics import davies_bouldin_score\n",
    "\n",
    "davies_bouldin_score(X, labels)"
   ]
  }
 ],
 "metadata": {},
 "nbformat": 4,
 "nbformat_minor": 5
}
