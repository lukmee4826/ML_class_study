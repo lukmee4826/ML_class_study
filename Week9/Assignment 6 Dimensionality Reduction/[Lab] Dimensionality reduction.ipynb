{
 "cells": [
  {
   "cell_type": "markdown",
   "id": "4b9a3486",
   "metadata": {},
   "source": [
    "# LAB: Dimensionality Reduction"
   ]
  },
  {
   "cell_type": "markdown",
   "id": "00527822",
   "metadata": {},
   "source": [
    "**Load necessary packages and apply custom configurations**"
   ]
  },
  {
   "cell_type": "code",
   "execution_count": 1,
   "id": "3ce58d95",
   "metadata": {},
   "outputs": [
    {
     "name": "stdout",
     "output_type": "stream",
     "text": [
      "Python version 3.12.8\n",
      "Numpy version 1.26.4\n",
      "Scipy version 1.15.1\n",
      "Pandas version 2.2.3\n",
      "Matplotlib version 3.10.0\n",
      "Seaborn version 0.13.2\n"
     ]
    }
   ],
   "source": [
    "import warnings; \n",
    "warnings.filterwarnings(\"ignore\")\n",
    "warnings.simplefilter(action=\"ignore\",category=UserWarning)\n",
    "warnings.simplefilter(action=\"ignore\",category=FutureWarning)\n",
    "\n",
    "# Suppress valuewarning when fitting ARIMA model.\n",
    "from statsmodels.tools.sm_exceptions import ValueWarning\n",
    "warnings.simplefilter('ignore', ValueWarning)\n",
    "\n",
    "\n",
    "# Interactive plots embedded within the notebook\n",
    "#%matplotlib notebook \n",
    "# Static images of plots embedded within the notebook\n",
    "# %matplotlib inline   \n",
    "%config InlineBackend.figure_formats = {'png', 'retina'}\n",
    "\n",
    "from IPython.core.interactiveshell import InteractiveShell\n",
    "InteractiveShell.ast_node_interactivity = \"all\"\n",
    "\n",
    "from scipy import stats\n",
    "\n",
    "import numpy as np\n",
    "import scipy as sp\n",
    "import matplotlib as mpl\n",
    "import matplotlib.pyplot as plt\n",
    "import seaborn as sns\n",
    "import pandas as pd\n",
    "import statsmodels as sm\n",
    "from platform import python_version\n",
    "\n",
    "#pd.options.plotting.backend = \"plotly\" \n",
    "# Conflict with options in original matplotlib.\n",
    "\n",
    "print('Python version', python_version())\n",
    "print('Numpy version', np.__version__)\n",
    "print('Scipy version', sp.__version__)\n",
    "print('Pandas version', pd.__version__)\n",
    "print('Matplotlib version', mpl.__version__)\n",
    "print('Seaborn version', sns.__version__)\n",
    "###############################################\n",
    "\n",
    "#plt.style.use('ggplot')\n",
    "#plt.style.use('seaborn-v0_8-muted')\n",
    "plt.rcParams['figure.figsize'] = (6, 6)\n",
    "plt.rcParams['grid.linestyle'] = ':'   \n",
    "plt.rcParams['axes.grid'] = False\n",
    "\n",
    "sns.set_style(\"whitegrid\", {'axes.grid' : False})\n",
    "#sns.color_palette(\"RdBu\", n_colors=10)\n",
    "#sns.color_palette(\"RdBu_r') # Good for heatmap"
   ]
  },
  {
   "cell_type": "markdown",
   "id": "6a0c3029",
   "metadata": {},
   "source": [
    "# Part I: Linear PCA"
   ]
  },
  {
   "cell_type": "markdown",
   "id": "bbc0845e",
   "metadata": {},
   "source": [
    "**Create a dataset**   \n",
    "rows = instances, columns = features/variables  "
   ]
  },
  {
   "cell_type": "code",
   "execution_count": 2,
   "id": "01fa47fe",
   "metadata": {},
   "outputs": [
    {
     "name": "stdout",
     "output_type": "stream",
     "text": [
      "[[ 9 39]\n",
      " [15 56]\n",
      " [25 93]\n",
      " [14 61]\n",
      " [10 50]\n",
      " [18 75]\n",
      " [ 0 32]\n",
      " [16 85]\n",
      " [ 5 42]\n",
      " [19 70]\n",
      " [16 66]\n",
      " [20 80]]\n"
     ]
    }
   ],
   "source": [
    "x1 = np.array([9,15,25,14,10,18,0,16,5,19,16,20])\n",
    "x2 = np.array([39,56,93,61,50,75,32,85,42,70,66,80])\n",
    "\n",
    "D = np.vstack((x1,x2)).T \n",
    "print(D)"
   ]
  },
  {
   "cell_type": "markdown",
   "id": "b3d094a1",
   "metadata": {},
   "source": [
    "Make the dataset zero-mean by subtracting each column by its mean."
   ]
  },
  {
   "cell_type": "code",
   "execution_count": 3,
   "id": "75d1f871",
   "metadata": {},
   "outputs": [
    {
     "name": "stdout",
     "output_type": "stream",
     "text": [
      "[[ -4.91666667 -23.41666667]\n",
      " [  1.08333333  -6.41666667]\n",
      " [ 11.08333333  30.58333333]\n",
      " [  0.08333333  -1.41666667]\n",
      " [ -3.91666667 -12.41666667]\n",
      " [  4.08333333  12.58333333]\n",
      " [-13.91666667 -30.41666667]\n",
      " [  2.08333333  22.58333333]\n",
      " [ -8.91666667 -20.41666667]\n",
      " [  5.08333333   7.58333333]\n",
      " [  2.08333333   3.58333333]\n",
      " [  6.08333333  17.58333333]]\n"
     ]
    }
   ],
   "source": [
    "D = np.vstack((x1, x2)).T   #matrix(12,2)\n",
    "mean_D = np.mean(D, axis=0) \n",
    "D_zero_mean = D - mean_D\n",
    "\n",
    "print(D_zero_mean)"
   ]
  },
  {
   "cell_type": "markdown",
   "id": "f94d92ae",
   "metadata": {},
   "source": [
    "Compute the sample covariance matrix $S$ from the zero-mean data using `np.cov`.  \n",
    "    \n",
    "   \n",
    "Use the option `rowvar=False` to treat the variables column-wise.  \n",
    "The sum is divided by  $N-1$ by default (option `bias=False` or `ddof=1`)"
   ]
  },
  {
   "cell_type": "code",
   "execution_count": 4,
   "id": "ef24ca53",
   "metadata": {},
   "outputs": [
    {
     "name": "stdout",
     "output_type": "stream",
     "text": [
      "[[ 47.71969697 122.9469697 ]\n",
      " [122.9469697  370.08333333]]\n"
     ]
    }
   ],
   "source": [
    "Sample_covar_matrix = np.cov(D_zero_mean, rowvar=False)\n",
    "print(Sample_covar_matrix)"
   ]
  },
  {
   "cell_type": "markdown",
   "id": "b713fa72",
   "metadata": {},
   "source": [
    "Compute the eigenpairs of the covariance matrix $S$ to get the principal components.  \n",
    "Show the eigenvectors sorted by the largest eigenvalues first, and the corresponding eigenvalues."
   ]
  },
  {
   "cell_type": "code",
   "execution_count": 5,
   "id": "5288d04c",
   "metadata": {},
   "outputs": [],
   "source": [
    "egval,egvec = np.linalg.eig(Sample_covar_matrix)"
   ]
  },
  {
   "cell_type": "code",
   "execution_count": 6,
   "id": "243d2169",
   "metadata": {},
   "outputs": [
    {
     "name": "stdout",
     "output_type": "stream",
     "text": [
      "[  6.18117609 411.62185422]\n",
      "[[-0.94738969 -0.32008244]\n",
      " [ 0.32008244 -0.94738969]]\n"
     ]
    }
   ],
   "source": [
    "print(egval)\n",
    "print(egvec)"
   ]
  },
  {
   "cell_type": "code",
   "execution_count": 7,
   "id": "ee03accb",
   "metadata": {},
   "outputs": [
    {
     "name": "stdout",
     "output_type": "stream",
     "text": [
      "[411.62185422   6.18117609]\n",
      "[[-0.32008244 -0.94738969]\n",
      " [-0.94738969  0.32008244]]\n"
     ]
    }
   ],
   "source": [
    "sorted_indices = np.argsort(egval)[::-1]\n",
    "egval = egval[sorted_indices]\n",
    "egvec = egvec[:, sorted_indices]\n",
    "print(egval)\n",
    "print(egvec)\n"
   ]
  },
  {
   "cell_type": "markdown",
   "id": "100a540a",
   "metadata": {},
   "source": [
    "Result: Eigenvalues = 441.6218 , 6.1811"
   ]
  },
  {
   "cell_type": "markdown",
   "id": "de4e39af",
   "metadata": {},
   "source": [
    "Take $r=2$ principal components as the matrix `Pr`"
   ]
  },
  {
   "cell_type": "code",
   "execution_count": 8,
   "id": "61010d73",
   "metadata": {},
   "outputs": [
    {
     "name": "stdout",
     "output_type": "stream",
     "text": [
      "Principal Components Matrix (Pr):\n",
      "[[-0.32008244 -0.94738969]\n",
      " [-0.94738969  0.32008244]]\n"
     ]
    }
   ],
   "source": [
    "# เลือก 2 principal components\n",
    "r = 2\n",
    "Pr = egvec[:, :r]  # เลือก 2 คอลัมน์แรกของ eigenvectors ที่เรียงลำดับแล้ว\n",
    "\n",
    "# แสดงผล\n",
    "print(\"Principal Components Matrix (Pr):\")\n",
    "print(Pr)\n"
   ]
  },
  {
   "cell_type": "markdown",
   "id": "1826d140",
   "metadata": {},
   "source": [
    "Transform the data to obtain the reduced-dimension data $Z$ by multiplying  \n",
    "    the zero-mean data $X$ to the matrix of principal components $Pr$."
   ]
  },
  {
   "cell_type": "code",
   "execution_count": 9,
   "id": "b4ea4a1e",
   "metadata": {},
   "outputs": [
    {
     "name": "stdout",
     "output_type": "stream",
     "text": [
      "Reduced-Dimension Data (Z):\n",
      "[[ 23.75844731  -2.83726457]\n",
      " [  5.73232788  -3.08020118]\n",
      " [-32.52191518  -0.71104768]\n",
      " [  1.31546186  -0.53239927]\n",
      " [ 13.01707825  -0.26374738]\n",
      " [-13.22832361   0.15919617]\n",
      " [ 33.27091715   3.44866555]\n",
      " [-22.06205564   5.2548    ]\n",
      " [ 22.19660801   1.91254153]\n",
      " [ -8.81145759  -2.38860574]\n",
      " [ -4.06165149  -0.82676644]\n",
      " [-18.60543696  -0.13517099]]\n"
     ]
    }
   ],
   "source": [
    "# Transform ข้อมูลไปยัง reduced-dimension space\n",
    "Z = D_zero_mean @ Pr\n",
    "\n",
    "# แสดงผล\n",
    "print(\"Reduced-Dimension Data (Z):\")\n",
    "print(Z)\n"
   ]
  },
  {
   "cell_type": "markdown",
   "id": "6305c200",
   "metadata": {},
   "source": [
    "Inverse-transform the data by multiplying the transformed data and the matrix of principal components. "
   ]
  },
  {
   "cell_type": "code",
   "execution_count": 10,
   "id": "2a9fcf2f",
   "metadata": {},
   "outputs": [
    {
     "name": "stdout",
     "output_type": "stream",
     "text": [
      "[[-0.32008244 -0.94738969]\n",
      " [-0.94738969  0.32008244]]\n"
     ]
    }
   ],
   "source": [
    "Pr_T = Pr.T  # Transpose ของ Pr\n",
    "print(Pr_T)"
   ]
  },
  {
   "cell_type": "markdown",
   "id": "2eae1637",
   "metadata": {},
   "source": [
    "<font color='blue'>Determine the variance explained by each principal component from the eigenvalues, \n",
    "the PVEs and the cumulative PVEs from the eigenvalues. "
   ]
  },
  {
   "cell_type": "code",
   "execution_count": 11,
   "id": "30995607",
   "metadata": {},
   "outputs": [
    {
     "name": "stdout",
     "output_type": "stream",
     "text": [
      "Eigenvalues: [411.62185422   6.18117609]\n",
      "Proportion of Variance Explained (PVE): [0.98520553 0.01479447]\n",
      "Cumulative PVE: [0.98520553 1.        ]\n"
     ]
    }
   ],
   "source": [
    "total_variance = np.sum(egval)\n",
    "pve = egval / total_variance\n",
    "\n",
    "# คำนวณ Cumulative PVE\n",
    "cumulative_pve = np.cumsum(pve)\n",
    "\n",
    "# แสดงผลลัพธ์\n",
    "print(\"Eigenvalues:\", egval)\n",
    "print(\"Proportion of Variance Explained (PVE):\", pve)\n",
    "print(\"Cumulative PVE:\", cumulative_pve)"
   ]
  },
  {
   "cell_type": "markdown",
   "id": "23f96d86",
   "metadata": {},
   "source": [
    "# Part II: Dimensionaltiy reduction with PCA"
   ]
  },
  {
   "cell_type": "markdown",
   "id": "1cf1655d",
   "metadata": {},
   "source": [
    "The dataset from sheet `MTCARS` in file `dimensionality-reduction.xlsx`. The dataset contains 11 columns:\n",
    "- `mpg`: Miles per gallon (Fuel efficience)\n",
    "- `cyl`: Number of cyclinders  \n",
    "- `disp`: Displacement (Proxy to power generated by engine)  \n",
    "- `hp`: Gross horse power  (Engine power output)\n",
    "- `drat`: Rear axle ratio (# turns of the drive shaft for every one rotation of the wheel axle). \n",
    "          High ratio = More torque\n",
    "- `wt`: Weight in 1000lbs\n",
    "- `qsec`: 1/4 mile time (Fastest time to travel 1/4 mile in seconds)\n",
    "- `vs`: Engine cylinder configuration (V-shape or Straight line)\n",
    "- `am`: Transmission Type (Automatic or Manual)\n",
    "- `gear`: Number of forward gears\n",
    "- `carb`: Number of carburetors. Engines with higher displacement typically have higher barrel configuration"
   ]
  },
  {
   "cell_type": "markdown",
   "id": "748c23dc",
   "metadata": {},
   "source": [
    "Load and explore the dataset"
   ]
  },
  {
   "cell_type": "code",
   "execution_count": 12,
   "id": "c3ec554f",
   "metadata": {},
   "outputs": [
    {
     "data": {
      "text/html": [
       "<div>\n",
       "<style scoped>\n",
       "    .dataframe tbody tr th:only-of-type {\n",
       "        vertical-align: middle;\n",
       "    }\n",
       "\n",
       "    .dataframe tbody tr th {\n",
       "        vertical-align: top;\n",
       "    }\n",
       "\n",
       "    .dataframe thead th {\n",
       "        text-align: right;\n",
       "    }\n",
       "</style>\n",
       "<table border=\"1\" class=\"dataframe\">\n",
       "  <thead>\n",
       "    <tr style=\"text-align: right;\">\n",
       "      <th></th>\n",
       "      <th>mpg</th>\n",
       "      <th>cyl</th>\n",
       "      <th>disp</th>\n",
       "      <th>hp</th>\n",
       "      <th>drat</th>\n",
       "      <th>wt</th>\n",
       "      <th>qsec</th>\n",
       "      <th>vs</th>\n",
       "      <th>am</th>\n",
       "      <th>gear</th>\n",
       "      <th>carb</th>\n",
       "    </tr>\n",
       "  </thead>\n",
       "  <tbody>\n",
       "    <tr>\n",
       "      <th>0</th>\n",
       "      <td>21.0</td>\n",
       "      <td>6</td>\n",
       "      <td>160.0</td>\n",
       "      <td>110</td>\n",
       "      <td>3.90</td>\n",
       "      <td>2.620</td>\n",
       "      <td>16.46</td>\n",
       "      <td>0</td>\n",
       "      <td>1</td>\n",
       "      <td>4</td>\n",
       "      <td>4</td>\n",
       "    </tr>\n",
       "    <tr>\n",
       "      <th>1</th>\n",
       "      <td>21.0</td>\n",
       "      <td>6</td>\n",
       "      <td>160.0</td>\n",
       "      <td>110</td>\n",
       "      <td>3.90</td>\n",
       "      <td>2.875</td>\n",
       "      <td>17.02</td>\n",
       "      <td>0</td>\n",
       "      <td>1</td>\n",
       "      <td>4</td>\n",
       "      <td>4</td>\n",
       "    </tr>\n",
       "    <tr>\n",
       "      <th>2</th>\n",
       "      <td>22.8</td>\n",
       "      <td>4</td>\n",
       "      <td>108.0</td>\n",
       "      <td>93</td>\n",
       "      <td>3.85</td>\n",
       "      <td>2.320</td>\n",
       "      <td>18.61</td>\n",
       "      <td>1</td>\n",
       "      <td>1</td>\n",
       "      <td>4</td>\n",
       "      <td>1</td>\n",
       "    </tr>\n",
       "    <tr>\n",
       "      <th>3</th>\n",
       "      <td>21.4</td>\n",
       "      <td>6</td>\n",
       "      <td>258.0</td>\n",
       "      <td>110</td>\n",
       "      <td>3.08</td>\n",
       "      <td>3.215</td>\n",
       "      <td>19.44</td>\n",
       "      <td>1</td>\n",
       "      <td>0</td>\n",
       "      <td>3</td>\n",
       "      <td>1</td>\n",
       "    </tr>\n",
       "    <tr>\n",
       "      <th>4</th>\n",
       "      <td>18.7</td>\n",
       "      <td>8</td>\n",
       "      <td>360.0</td>\n",
       "      <td>175</td>\n",
       "      <td>3.15</td>\n",
       "      <td>3.440</td>\n",
       "      <td>17.02</td>\n",
       "      <td>0</td>\n",
       "      <td>0</td>\n",
       "      <td>3</td>\n",
       "      <td>2</td>\n",
       "    </tr>\n",
       "  </tbody>\n",
       "</table>\n",
       "</div>"
      ],
      "text/plain": [
       "    mpg  cyl   disp   hp  drat     wt   qsec  vs  am  gear  carb\n",
       "0  21.0    6  160.0  110  3.90  2.620  16.46   0   1     4     4\n",
       "1  21.0    6  160.0  110  3.90  2.875  17.02   0   1     4     4\n",
       "2  22.8    4  108.0   93  3.85  2.320  18.61   1   1     4     1\n",
       "3  21.4    6  258.0  110  3.08  3.215  19.44   1   0     3     1\n",
       "4  18.7    8  360.0  175  3.15  3.440  17.02   0   0     3     2"
      ]
     },
     "execution_count": 12,
     "metadata": {},
     "output_type": "execute_result"
    }
   ],
   "source": [
    "data = pd.read_excel('dimensionality-reduction.xlsx')\n",
    "data.head()"
   ]
  },
  {
   "cell_type": "code",
   "execution_count": 13,
   "id": "332b2c71",
   "metadata": {},
   "outputs": [
    {
     "name": "stdout",
     "output_type": "stream",
     "text": [
      "<class 'pandas.core.frame.DataFrame'>\n",
      "RangeIndex: 32 entries, 0 to 31\n",
      "Data columns (total 11 columns):\n",
      " #   Column  Non-Null Count  Dtype  \n",
      "---  ------  --------------  -----  \n",
      " 0   mpg     32 non-null     float64\n",
      " 1   cyl     32 non-null     int64  \n",
      " 2   disp    32 non-null     float64\n",
      " 3   hp      32 non-null     int64  \n",
      " 4   drat    32 non-null     float64\n",
      " 5   wt      32 non-null     float64\n",
      " 6   qsec    32 non-null     float64\n",
      " 7   vs      32 non-null     int64  \n",
      " 8   am      32 non-null     int64  \n",
      " 9   gear    32 non-null     int64  \n",
      " 10  carb    32 non-null     int64  \n",
      "dtypes: float64(5), int64(6)\n",
      "memory usage: 2.9 KB\n"
     ]
    }
   ],
   "source": [
    "data.info()"
   ]
  },
  {
   "cell_type": "code",
   "execution_count": 14,
   "id": "b211c2d6",
   "metadata": {},
   "outputs": [
    {
     "data": {
      "text/html": [
       "<div>\n",
       "<style scoped>\n",
       "    .dataframe tbody tr th:only-of-type {\n",
       "        vertical-align: middle;\n",
       "    }\n",
       "\n",
       "    .dataframe tbody tr th {\n",
       "        vertical-align: top;\n",
       "    }\n",
       "\n",
       "    .dataframe thead th {\n",
       "        text-align: right;\n",
       "    }\n",
       "</style>\n",
       "<table border=\"1\" class=\"dataframe\">\n",
       "  <thead>\n",
       "    <tr style=\"text-align: right;\">\n",
       "      <th></th>\n",
       "      <th>mpg</th>\n",
       "      <th>cyl</th>\n",
       "      <th>disp</th>\n",
       "      <th>hp</th>\n",
       "      <th>drat</th>\n",
       "      <th>wt</th>\n",
       "      <th>qsec</th>\n",
       "      <th>vs</th>\n",
       "      <th>am</th>\n",
       "      <th>gear</th>\n",
       "      <th>carb</th>\n",
       "    </tr>\n",
       "  </thead>\n",
       "  <tbody>\n",
       "    <tr>\n",
       "      <th>count</th>\n",
       "      <td>32.000000</td>\n",
       "      <td>32.000000</td>\n",
       "      <td>32.000000</td>\n",
       "      <td>32.000000</td>\n",
       "      <td>32.000000</td>\n",
       "      <td>32.000000</td>\n",
       "      <td>32.000000</td>\n",
       "      <td>32.000000</td>\n",
       "      <td>32.000000</td>\n",
       "      <td>32.000000</td>\n",
       "      <td>32.0000</td>\n",
       "    </tr>\n",
       "    <tr>\n",
       "      <th>mean</th>\n",
       "      <td>20.090625</td>\n",
       "      <td>6.187500</td>\n",
       "      <td>230.721875</td>\n",
       "      <td>146.687500</td>\n",
       "      <td>3.596563</td>\n",
       "      <td>3.217250</td>\n",
       "      <td>17.848750</td>\n",
       "      <td>0.437500</td>\n",
       "      <td>0.406250</td>\n",
       "      <td>3.687500</td>\n",
       "      <td>2.8125</td>\n",
       "    </tr>\n",
       "    <tr>\n",
       "      <th>std</th>\n",
       "      <td>6.026948</td>\n",
       "      <td>1.785922</td>\n",
       "      <td>123.938694</td>\n",
       "      <td>68.562868</td>\n",
       "      <td>0.534679</td>\n",
       "      <td>0.978457</td>\n",
       "      <td>1.786943</td>\n",
       "      <td>0.504016</td>\n",
       "      <td>0.498991</td>\n",
       "      <td>0.737804</td>\n",
       "      <td>1.6152</td>\n",
       "    </tr>\n",
       "    <tr>\n",
       "      <th>min</th>\n",
       "      <td>10.400000</td>\n",
       "      <td>4.000000</td>\n",
       "      <td>71.100000</td>\n",
       "      <td>52.000000</td>\n",
       "      <td>2.760000</td>\n",
       "      <td>1.513000</td>\n",
       "      <td>14.500000</td>\n",
       "      <td>0.000000</td>\n",
       "      <td>0.000000</td>\n",
       "      <td>3.000000</td>\n",
       "      <td>1.0000</td>\n",
       "    </tr>\n",
       "    <tr>\n",
       "      <th>25%</th>\n",
       "      <td>15.425000</td>\n",
       "      <td>4.000000</td>\n",
       "      <td>120.825000</td>\n",
       "      <td>96.500000</td>\n",
       "      <td>3.080000</td>\n",
       "      <td>2.581250</td>\n",
       "      <td>16.892500</td>\n",
       "      <td>0.000000</td>\n",
       "      <td>0.000000</td>\n",
       "      <td>3.000000</td>\n",
       "      <td>2.0000</td>\n",
       "    </tr>\n",
       "    <tr>\n",
       "      <th>50%</th>\n",
       "      <td>19.200000</td>\n",
       "      <td>6.000000</td>\n",
       "      <td>196.300000</td>\n",
       "      <td>123.000000</td>\n",
       "      <td>3.695000</td>\n",
       "      <td>3.325000</td>\n",
       "      <td>17.710000</td>\n",
       "      <td>0.000000</td>\n",
       "      <td>0.000000</td>\n",
       "      <td>4.000000</td>\n",
       "      <td>2.0000</td>\n",
       "    </tr>\n",
       "    <tr>\n",
       "      <th>75%</th>\n",
       "      <td>22.800000</td>\n",
       "      <td>8.000000</td>\n",
       "      <td>326.000000</td>\n",
       "      <td>180.000000</td>\n",
       "      <td>3.920000</td>\n",
       "      <td>3.610000</td>\n",
       "      <td>18.900000</td>\n",
       "      <td>1.000000</td>\n",
       "      <td>1.000000</td>\n",
       "      <td>4.000000</td>\n",
       "      <td>4.0000</td>\n",
       "    </tr>\n",
       "    <tr>\n",
       "      <th>max</th>\n",
       "      <td>33.900000</td>\n",
       "      <td>8.000000</td>\n",
       "      <td>472.000000</td>\n",
       "      <td>335.000000</td>\n",
       "      <td>4.930000</td>\n",
       "      <td>5.424000</td>\n",
       "      <td>22.900000</td>\n",
       "      <td>1.000000</td>\n",
       "      <td>1.000000</td>\n",
       "      <td>5.000000</td>\n",
       "      <td>8.0000</td>\n",
       "    </tr>\n",
       "  </tbody>\n",
       "</table>\n",
       "</div>"
      ],
      "text/plain": [
       "             mpg        cyl        disp          hp       drat         wt  \\\n",
       "count  32.000000  32.000000   32.000000   32.000000  32.000000  32.000000   \n",
       "mean   20.090625   6.187500  230.721875  146.687500   3.596563   3.217250   \n",
       "std     6.026948   1.785922  123.938694   68.562868   0.534679   0.978457   \n",
       "min    10.400000   4.000000   71.100000   52.000000   2.760000   1.513000   \n",
       "25%    15.425000   4.000000  120.825000   96.500000   3.080000   2.581250   \n",
       "50%    19.200000   6.000000  196.300000  123.000000   3.695000   3.325000   \n",
       "75%    22.800000   8.000000  326.000000  180.000000   3.920000   3.610000   \n",
       "max    33.900000   8.000000  472.000000  335.000000   4.930000   5.424000   \n",
       "\n",
       "            qsec         vs         am       gear     carb  \n",
       "count  32.000000  32.000000  32.000000  32.000000  32.0000  \n",
       "mean   17.848750   0.437500   0.406250   3.687500   2.8125  \n",
       "std     1.786943   0.504016   0.498991   0.737804   1.6152  \n",
       "min    14.500000   0.000000   0.000000   3.000000   1.0000  \n",
       "25%    16.892500   0.000000   0.000000   3.000000   2.0000  \n",
       "50%    17.710000   0.000000   0.000000   4.000000   2.0000  \n",
       "75%    18.900000   1.000000   1.000000   4.000000   4.0000  \n",
       "max    22.900000   1.000000   1.000000   5.000000   8.0000  "
      ]
     },
     "execution_count": 14,
     "metadata": {},
     "output_type": "execute_result"
    }
   ],
   "source": [
    "data.describe()"
   ]
  },
  {
   "cell_type": "markdown",
   "id": "836a546f",
   "metadata": {},
   "source": [
    "Compute the covariance matrix of the dataset"
   ]
  },
  {
   "cell_type": "code",
   "execution_count": 15,
   "id": "56234257",
   "metadata": {},
   "outputs": [
    {
     "name": "stdout",
     "output_type": "stream",
     "text": [
      "Covariance Matrix:\n"
     ]
    },
    {
     "data": {
      "text/html": [
       "<div>\n",
       "<style scoped>\n",
       "    .dataframe tbody tr th:only-of-type {\n",
       "        vertical-align: middle;\n",
       "    }\n",
       "\n",
       "    .dataframe tbody tr th {\n",
       "        vertical-align: top;\n",
       "    }\n",
       "\n",
       "    .dataframe thead th {\n",
       "        text-align: right;\n",
       "    }\n",
       "</style>\n",
       "<table border=\"1\" class=\"dataframe\">\n",
       "  <thead>\n",
       "    <tr style=\"text-align: right;\">\n",
       "      <th></th>\n",
       "      <th>mpg</th>\n",
       "      <th>cyl</th>\n",
       "      <th>disp</th>\n",
       "      <th>hp</th>\n",
       "      <th>drat</th>\n",
       "      <th>wt</th>\n",
       "      <th>qsec</th>\n",
       "      <th>vs</th>\n",
       "      <th>am</th>\n",
       "      <th>gear</th>\n",
       "      <th>carb</th>\n",
       "    </tr>\n",
       "  </thead>\n",
       "  <tbody>\n",
       "    <tr>\n",
       "      <th>mpg</th>\n",
       "      <td>36.324103</td>\n",
       "      <td>-9.172379</td>\n",
       "      <td>-633.097208</td>\n",
       "      <td>-320.732056</td>\n",
       "      <td>2.195064</td>\n",
       "      <td>-5.116685</td>\n",
       "      <td>4.509149</td>\n",
       "      <td>2.017137</td>\n",
       "      <td>1.803931</td>\n",
       "      <td>2.135685</td>\n",
       "      <td>-5.363105</td>\n",
       "    </tr>\n",
       "    <tr>\n",
       "      <th>cyl</th>\n",
       "      <td>-9.172379</td>\n",
       "      <td>3.189516</td>\n",
       "      <td>199.660282</td>\n",
       "      <td>101.931452</td>\n",
       "      <td>-0.668367</td>\n",
       "      <td>1.367371</td>\n",
       "      <td>-1.886855</td>\n",
       "      <td>-0.729839</td>\n",
       "      <td>-0.465726</td>\n",
       "      <td>-0.649194</td>\n",
       "      <td>1.520161</td>\n",
       "    </tr>\n",
       "    <tr>\n",
       "      <th>disp</th>\n",
       "      <td>-633.097208</td>\n",
       "      <td>199.660282</td>\n",
       "      <td>15360.799829</td>\n",
       "      <td>6721.158669</td>\n",
       "      <td>-47.064019</td>\n",
       "      <td>107.684204</td>\n",
       "      <td>-96.051681</td>\n",
       "      <td>-44.377621</td>\n",
       "      <td>-36.564012</td>\n",
       "      <td>-50.802621</td>\n",
       "      <td>79.068750</td>\n",
       "    </tr>\n",
       "    <tr>\n",
       "      <th>hp</th>\n",
       "      <td>-320.732056</td>\n",
       "      <td>101.931452</td>\n",
       "      <td>6721.158669</td>\n",
       "      <td>4700.866935</td>\n",
       "      <td>-16.451109</td>\n",
       "      <td>44.192661</td>\n",
       "      <td>-86.770081</td>\n",
       "      <td>-24.987903</td>\n",
       "      <td>-8.320565</td>\n",
       "      <td>-6.358871</td>\n",
       "      <td>83.036290</td>\n",
       "    </tr>\n",
       "    <tr>\n",
       "      <th>drat</th>\n",
       "      <td>2.195064</td>\n",
       "      <td>-0.668367</td>\n",
       "      <td>-47.064019</td>\n",
       "      <td>-16.451109</td>\n",
       "      <td>0.285881</td>\n",
       "      <td>-0.372721</td>\n",
       "      <td>0.087141</td>\n",
       "      <td>0.118649</td>\n",
       "      <td>0.190151</td>\n",
       "      <td>0.275988</td>\n",
       "      <td>-0.078407</td>\n",
       "    </tr>\n",
       "    <tr>\n",
       "      <th>wt</th>\n",
       "      <td>-5.116685</td>\n",
       "      <td>1.367371</td>\n",
       "      <td>107.684204</td>\n",
       "      <td>44.192661</td>\n",
       "      <td>-0.372721</td>\n",
       "      <td>0.957379</td>\n",
       "      <td>-0.305482</td>\n",
       "      <td>-0.273661</td>\n",
       "      <td>-0.338105</td>\n",
       "      <td>-0.421081</td>\n",
       "      <td>0.675790</td>\n",
       "    </tr>\n",
       "    <tr>\n",
       "      <th>qsec</th>\n",
       "      <td>4.509149</td>\n",
       "      <td>-1.886855</td>\n",
       "      <td>-96.051681</td>\n",
       "      <td>-86.770081</td>\n",
       "      <td>0.087141</td>\n",
       "      <td>-0.305482</td>\n",
       "      <td>3.193166</td>\n",
       "      <td>0.670565</td>\n",
       "      <td>-0.204960</td>\n",
       "      <td>-0.280403</td>\n",
       "      <td>-1.894113</td>\n",
       "    </tr>\n",
       "    <tr>\n",
       "      <th>vs</th>\n",
       "      <td>2.017137</td>\n",
       "      <td>-0.729839</td>\n",
       "      <td>-44.377621</td>\n",
       "      <td>-24.987903</td>\n",
       "      <td>0.118649</td>\n",
       "      <td>-0.273661</td>\n",
       "      <td>0.670565</td>\n",
       "      <td>0.254032</td>\n",
       "      <td>0.042339</td>\n",
       "      <td>0.076613</td>\n",
       "      <td>-0.463710</td>\n",
       "    </tr>\n",
       "    <tr>\n",
       "      <th>am</th>\n",
       "      <td>1.803931</td>\n",
       "      <td>-0.465726</td>\n",
       "      <td>-36.564012</td>\n",
       "      <td>-8.320565</td>\n",
       "      <td>0.190151</td>\n",
       "      <td>-0.338105</td>\n",
       "      <td>-0.204960</td>\n",
       "      <td>0.042339</td>\n",
       "      <td>0.248992</td>\n",
       "      <td>0.292339</td>\n",
       "      <td>0.046371</td>\n",
       "    </tr>\n",
       "    <tr>\n",
       "      <th>gear</th>\n",
       "      <td>2.135685</td>\n",
       "      <td>-0.649194</td>\n",
       "      <td>-50.802621</td>\n",
       "      <td>-6.358871</td>\n",
       "      <td>0.275988</td>\n",
       "      <td>-0.421081</td>\n",
       "      <td>-0.280403</td>\n",
       "      <td>0.076613</td>\n",
       "      <td>0.292339</td>\n",
       "      <td>0.544355</td>\n",
       "      <td>0.326613</td>\n",
       "    </tr>\n",
       "    <tr>\n",
       "      <th>carb</th>\n",
       "      <td>-5.363105</td>\n",
       "      <td>1.520161</td>\n",
       "      <td>79.068750</td>\n",
       "      <td>83.036290</td>\n",
       "      <td>-0.078407</td>\n",
       "      <td>0.675790</td>\n",
       "      <td>-1.894113</td>\n",
       "      <td>-0.463710</td>\n",
       "      <td>0.046371</td>\n",
       "      <td>0.326613</td>\n",
       "      <td>2.608871</td>\n",
       "    </tr>\n",
       "  </tbody>\n",
       "</table>\n",
       "</div>"
      ],
      "text/plain": [
       "             mpg         cyl          disp           hp       drat  \\\n",
       "mpg    36.324103   -9.172379   -633.097208  -320.732056   2.195064   \n",
       "cyl    -9.172379    3.189516    199.660282   101.931452  -0.668367   \n",
       "disp -633.097208  199.660282  15360.799829  6721.158669 -47.064019   \n",
       "hp   -320.732056  101.931452   6721.158669  4700.866935 -16.451109   \n",
       "drat    2.195064   -0.668367    -47.064019   -16.451109   0.285881   \n",
       "wt     -5.116685    1.367371    107.684204    44.192661  -0.372721   \n",
       "qsec    4.509149   -1.886855    -96.051681   -86.770081   0.087141   \n",
       "vs      2.017137   -0.729839    -44.377621   -24.987903   0.118649   \n",
       "am      1.803931   -0.465726    -36.564012    -8.320565   0.190151   \n",
       "gear    2.135685   -0.649194    -50.802621    -6.358871   0.275988   \n",
       "carb   -5.363105    1.520161     79.068750    83.036290  -0.078407   \n",
       "\n",
       "              wt       qsec         vs         am       gear       carb  \n",
       "mpg    -5.116685   4.509149   2.017137   1.803931   2.135685  -5.363105  \n",
       "cyl     1.367371  -1.886855  -0.729839  -0.465726  -0.649194   1.520161  \n",
       "disp  107.684204 -96.051681 -44.377621 -36.564012 -50.802621  79.068750  \n",
       "hp     44.192661 -86.770081 -24.987903  -8.320565  -6.358871  83.036290  \n",
       "drat   -0.372721   0.087141   0.118649   0.190151   0.275988  -0.078407  \n",
       "wt      0.957379  -0.305482  -0.273661  -0.338105  -0.421081   0.675790  \n",
       "qsec   -0.305482   3.193166   0.670565  -0.204960  -0.280403  -1.894113  \n",
       "vs     -0.273661   0.670565   0.254032   0.042339   0.076613  -0.463710  \n",
       "am     -0.338105  -0.204960   0.042339   0.248992   0.292339   0.046371  \n",
       "gear   -0.421081  -0.280403   0.076613   0.292339   0.544355   0.326613  \n",
       "carb    0.675790  -1.894113  -0.463710   0.046371   0.326613   2.608871  "
      ]
     },
     "execution_count": 15,
     "metadata": {},
     "output_type": "execute_result"
    }
   ],
   "source": [
    "cov_matrix = data.cov()\n",
    "\n",
    "print(\"Covariance Matrix:\")\n",
    "cov_matrix"
   ]
  },
  {
   "cell_type": "markdown",
   "id": "341579ab",
   "metadata": {},
   "source": [
    "Compute the eigenvectors and the eigenvalues of the covariance matrix"
   ]
  },
  {
   "cell_type": "code",
   "execution_count": 16,
   "id": "fa7770b0",
   "metadata": {},
   "outputs": [
    {
     "name": "stdout",
     "output_type": "stream",
     "text": [
      "[1.86412732e+04 1.45527582e+03 9.43114274e+00 1.70733638e+00\n",
      " 8.21717176e-01 4.40286790e-01 9.52210464e-02 8.17733529e-02\n",
      " 3.93719949e-02 4.43742434e-02 6.28491258e-02]\n"
     ]
    }
   ],
   "source": [
    "eigenvalues, eigenvectors = np.linalg.eig(cov_matrix)\n",
    "\n",
    "print(eigenvalues)\n"
   ]
  },
  {
   "cell_type": "code",
   "execution_count": 17,
   "id": "8bf8078c",
   "metadata": {},
   "outputs": [
    {
     "name": "stdout",
     "output_type": "stream",
     "text": [
      "[[ 3.81181985e-02 -9.18484655e-03  9.82070847e-01  4.76347838e-02\n",
      "  -8.83284292e-02 -1.43790084e-01 -3.92391738e-02  2.27104005e-02\n",
      "  -1.58569365e-02  3.06303615e-02  2.79013881e-03]\n",
      " [-1.20351498e-02  3.37248716e-03 -6.34839420e-02 -2.27991962e-01\n",
      "   2.38725898e-01 -7.93818050e-01  4.25011021e-01 -1.89040332e-01\n",
      "   1.45445363e-01  1.31718534e-01 -4.26772061e-02]\n",
      " [-8.99568146e-01 -4.35372320e-01  3.14426562e-02 -5.08682642e-03\n",
      "  -1.07359688e-02  7.42413761e-03  5.82397980e-04 -5.84146399e-04\n",
      "   9.42026215e-04 -5.39913212e-03 -3.53271286e-03]\n",
      " [-4.34784387e-01  8.99307303e-01  2.50930486e-02  3.57156383e-02\n",
      "   1.65519386e-02  1.65368455e-03 -2.21253798e-03  4.74808677e-06\n",
      "  -2.15261018e-03  1.86255377e-03  3.73408459e-03]\n",
      " [ 2.66007737e-03  3.90020536e-03  3.97249277e-02 -5.71293572e-02\n",
      "  -1.33327645e-01  2.27229260e-01  3.48474105e-02 -9.38581717e-01\n",
      "  -9.73818815e-02  1.84102094e-01  1.41311095e-02]\n",
      " [-6.23940543e-03 -4.86102295e-03 -8.49102579e-02  1.27962867e-01\n",
      "  -2.43542958e-01 -1.27142296e-01 -1.86558915e-01  1.56190731e-01\n",
      "  -1.98581635e-02  8.29886844e-01  3.90600261e-01]\n",
      " [ 6.67126955e-03 -2.50117426e-02 -7.16704567e-02  8.86472188e-01\n",
      "  -2.14161005e-01 -1.89564973e-01  2.54844548e-01 -1.02851465e-01\n",
      "   1.10677880e-02 -2.04240658e-01  9.59144791e-02]\n",
      " [ 2.72947366e-03 -2.19842485e-03  4.20332833e-03  1.77123945e-01\n",
      "  -1.68885085e-02  1.02619063e-01 -8.07889378e-02 -2.13290254e-03\n",
      "   6.25690092e-01  3.03060724e-01 -6.84043835e-01]\n",
      " [ 1.96264418e-03  5.79376042e-03  5.48063907e-02 -1.35658793e-01\n",
      "  -6.27020047e-02  2.05217266e-01  2.00858874e-01 -2.27325456e-02\n",
      "   7.33165804e-01 -1.62808201e-01  5.72372433e-01]\n",
      " [ 2.60476776e-03  1.12724622e-02  4.85243720e-02 -1.29913811e-01\n",
      "  -2.76164395e-01  3.34971103e-01  8.01625551e-01  2.17487805e-01\n",
      "  -1.90932585e-01  2.03540645e-01 -1.56118559e-01]\n",
      " [-5.76600995e-03  2.77792079e-02 -1.02897231e-01 -2.68931427e-01\n",
      "  -8.55208104e-01 -2.83788381e-01 -1.65474186e-01  3.97221859e-03\n",
      "   5.57957968e-02 -2.39954748e-01 -1.27583043e-01]]\n"
     ]
    }
   ],
   "source": [
    "print(eigenvectors)"
   ]
  },
  {
   "cell_type": "markdown",
   "id": "6c59cbbc",
   "metadata": {},
   "source": [
    "Computer the PVE of principal components"
   ]
  },
  {
   "cell_type": "code",
   "execution_count": 18,
   "id": "6290a8d7",
   "metadata": {},
   "outputs": [
    {
     "name": "stdout",
     "output_type": "stream",
     "text": [
      "Proportion of Variance Explained (PVE):\n",
      "[9.26998858e-01 7.23683953e-02 4.68994713e-04 8.49029388e-05\n",
      " 4.08625997e-05 2.18947144e-05 4.73518094e-06 4.06644997e-06\n",
      " 1.95790244e-06 2.20665577e-06 3.12538030e-06]\n",
      "\n",
      "Cumulative PVE:\n",
      "[0.92699886 0.99936725 0.99983625 0.99992115 0.99996201 0.99998391\n",
      " 0.99998864 0.99999271 0.99999467 0.99999687 1.        ]\n"
     ]
    }
   ],
   "source": [
    "\n",
    "pve = eigenvalues / np.sum(eigenvalues)\n",
    "cumulative_pve = np.cumsum(pve)\n",
    "\n",
    "print(\"Proportion of Variance Explained (PVE):\")\n",
    "print(pve)\n",
    "print(\"\\nCumulative PVE:\")\n",
    "print(cumulative_pve)"
   ]
  },
  {
   "cell_type": "markdown",
   "id": "adfe3037",
   "metadata": {},
   "source": [
    "**<font color='darkorange'>Question 2.1</font>**\n",
    "- (a) How many PCs are sufficient to explain at least approximately 90% of the total variation in the data ?\n",
    "     -  1 PC  เพราะ ถ้า PC1 เพียงตัวเดียวมีค่า PVE มากกว่า 90% ใช้ 1 PC ก็พอ\n",
    "- (b) Which of the original features get large weights (loadings) in PC1 ? \n",
    "     - features ที่มีค่า loadings มากใน PC1 ได้แก่\n",
    "        - disp (Displacement)\n",
    "        - hp (Horsepower)\n",
    "        - wt (Weight)\n",
    "        - cyl (Number of Cylinders)"
   ]
  },
  {
   "cell_type": "markdown",
   "id": "b66f4c79",
   "metadata": {},
   "source": []
  },
  {
   "cell_type": "markdown",
   "id": "bb13562d",
   "metadata": {},
   "source": [
    "Standardize the data with `StandardScaler()` in scikit-learn."
   ]
  },
  {
   "cell_type": "code",
   "execution_count": 21,
   "id": "3d3b3024",
   "metadata": {},
   "outputs": [
    {
     "name": "stdout",
     "output_type": "stream",
     "text": [
      "[[ 1.53299135e-01 -1.06667720e-01 -5.79750316e-01 -5.43654869e-01\n",
      "   5.76594481e-01 -6.20166581e-01 -7.89600577e-01 -8.81917104e-01\n",
      "   1.20894105e+00  4.30331483e-01  7.46967077e-01]\n",
      " [ 1.53299135e-01 -1.06667720e-01 -5.79750316e-01 -5.43654869e-01\n",
      "   5.76594481e-01 -3.55382189e-01 -4.71201785e-01 -8.81917104e-01\n",
      "   1.20894105e+00  4.30331483e-01  7.46967077e-01]\n",
      " [ 4.56736599e-01 -1.24445674e+00 -1.00602601e+00 -7.95569902e-01\n",
      "   4.81584062e-01 -9.31677630e-01  4.32823359e-01  1.13389342e+00\n",
      "   1.20894105e+00  4.30331483e-01 -1.14010764e+00]\n",
      " [ 2.20729683e-01 -1.06667720e-01  2.23615417e-01 -5.43654869e-01\n",
      "  -9.81576392e-01 -2.33633287e-03  9.04735855e-01  1.13389342e+00\n",
      "  -8.27170192e-01 -9.46729262e-01 -1.14010764e+00]\n",
      " [-2.34426513e-01  1.03112130e+00  1.05977159e+00  4.19549669e-01\n",
      "  -8.48561806e-01  2.31296954e-01 -4.71201785e-01 -8.81917104e-01\n",
      "  -8.27170192e-01 -9.46729262e-01 -5.11082737e-01]\n",
      " [-3.35572334e-01 -1.06667720e-01 -4.69056970e-02 -6.17747526e-01\n",
      "  -1.58964307e+00  2.52064357e-01  1.34821989e+00  1.13389342e+00\n",
      "  -8.27170192e-01 -9.46729262e-01 -1.14010764e+00]\n",
      " [-9.76162534e-01  1.03112130e+00  1.05977159e+00  1.45684686e+00\n",
      "  -7.34549303e-01  3.66285076e-01 -1.14211353e+00 -8.81917104e-01\n",
      "  -8.27170192e-01 -9.46729262e-01  7.46967077e-01]\n",
      " [ 7.26458788e-01 -1.24445674e+00 -6.88778522e-01 -1.25494437e+00\n",
      "   1.77550721e-01 -2.82955870e-02  1.22313465e+00  1.13389342e+00\n",
      "  -8.27170192e-01  4.30331483e-01 -5.11082737e-01]\n",
      " [ 4.56736599e-01 -1.24445674e+00 -7.37144418e-01 -7.65932839e-01\n",
      "   6.14598649e-01 -6.98303936e-02  2.87198554e+00  1.13389342e+00\n",
      "  -8.27170192e-01  4.30331483e-01 -5.11082737e-01]\n",
      " [-1.50138328e-01 -1.06667720e-01 -5.17448483e-01 -3.51013961e-01\n",
      "   6.14598649e-01  2.31296954e-01  2.56566884e-01  1.13389342e+00\n",
      "  -8.27170192e-01  4.30331483e-01  7.46967077e-01]\n",
      " [-3.86145244e-01 -1.06667720e-01 -5.17448483e-01 -3.51013961e-01\n",
      "   6.14598649e-01  2.31296954e-01  5.97708448e-01  1.13389342e+00\n",
      "  -8.27170192e-01  4.30331483e-01  7.46967077e-01]\n",
      " [-6.22152160e-01  1.03112130e+00  3.69532866e-01  4.93642326e-01\n",
      "  -1.00057848e+00  8.85470158e-01 -2.55145461e-01 -8.81917104e-01\n",
      "  -8.27170192e-01 -9.46729262e-01  1.17942170e-01]\n",
      " [-4.70433428e-01  1.03112130e+00  3.69532866e-01  4.93642326e-01\n",
      "  -1.00057848e+00  5.32424302e-01 -1.41431607e-01 -8.81917104e-01\n",
      "  -8.27170192e-01 -9.46729262e-01  1.17942170e-01]\n",
      " [-8.24443802e-01  1.03112130e+00  3.69532866e-01  4.93642326e-01\n",
      "  -1.00057848e+00  5.84342810e-01  8.59961025e-02 -8.81917104e-01\n",
      "  -8.27170192e-01 -9.46729262e-01  1.17942170e-01]\n",
      " [-1.63361037e+00  1.03112130e+00  1.97790385e+00  8.64105609e-01\n",
      "  -1.26660765e+00  2.11074695e+00  7.46247170e-02 -8.81917104e-01\n",
      "  -8.27170192e-01 -9.46729262e-01  7.46967077e-01]\n",
      " [-1.63361037e+00  1.03112130e+00  1.87953254e+00  1.01229092e+00\n",
      "  -1.13359306e+00  2.29142336e+00 -1.63463666e-02 -8.81917104e-01\n",
      "  -8.27170192e-01 -9.46729262e-01  7.46967077e-01]\n",
      " [-9.08731987e-01  1.03112130e+00  1.71558035e+00  1.23456889e+00\n",
      "  -6.96545135e-01  2.20939212e+00 -2.43774076e-01 -8.81917104e-01\n",
      "  -8.27170192e-01 -9.46729262e-01  7.46967077e-01]\n",
      " [ 2.07506974e+00 -1.24445674e+00 -1.24621597e+00 -1.19567025e+00\n",
      "   9.18631990e-01 -1.05628205e+00  9.21792933e-01  1.13389342e+00\n",
      "   1.20894105e+00  4.30331483e-01 -1.14010764e+00]\n",
      " [ 1.73791700e+00 -1.24445674e+00 -1.27080880e+00 -1.40312969e+00\n",
      "   2.53380911e+00 -1.66372860e+00  3.81652124e-01  1.13389342e+00\n",
      "   1.20894105e+00  4.30331483e-01 -5.11082737e-01]\n",
      " [ 2.32793429e+00 -1.24445674e+00 -1.30851780e+00 -1.21048878e+00\n",
      "   1.18466116e+00 -1.43528716e+00  1.16627772e+00  1.13389342e+00\n",
      "   1.20894105e+00  4.30331483e-01 -1.14010764e+00]\n",
      " [ 2.37587319e-01 -1.24445674e+00 -9.06834935e-01 -7.36295776e-01\n",
      "   1.96552805e-01 -7.81113956e-01  1.22882034e+00  1.13389342e+00\n",
      "  -8.27170192e-01 -9.46729262e-01 -1.14010764e+00]\n",
      " [-7.73870892e-01  1.03112130e+00  7.15471988e-01  4.90863851e-02\n",
      "  -1.58964307e+00  3.14366567e-01 -5.56487176e-01 -8.81917104e-01\n",
      "  -8.27170192e-01 -9.46729262e-01 -5.11082737e-01]\n",
      " [-8.24443802e-01  1.03112130e+00  6.00705455e-01  4.90863851e-02\n",
      "  -8.48561806e-01  2.26105103e-01 -3.12002388e-01 -8.81917104e-01\n",
      "  -8.27170192e-01 -9.46729262e-01 -5.11082737e-01]\n",
      " [-1.14473890e+00  1.03112130e+00  9.77795493e-01  1.45684686e+00\n",
      "   2.53559056e-01  6.46645020e-01 -1.38659831e+00 -8.81917104e-01\n",
      "  -8.27170192e-01 -9.46729262e-01  7.46967077e-01]\n",
      " [-1.50138328e-01  1.03112130e+00  1.38767597e+00  4.19549669e-01\n",
      "  -9.81576392e-01  6.51836871e-01 -4.54144707e-01 -8.81917104e-01\n",
      "  -8.27170192e-01 -9.46729262e-01 -5.11082737e-01]\n",
      " [ 1.21533026e+00 -1.24445674e+00 -1.24375669e+00 -1.19567025e+00\n",
      "   9.18631990e-01 -1.33145014e+00  5.97708448e-01  1.13389342e+00\n",
      "   1.20894105e+00  4.30331483e-01 -1.14010764e+00]\n",
      " [ 9.96180978e-01 -1.24445674e+00 -9.05195413e-01 -8.25206964e-01\n",
      "   1.58370492e+00 -1.11858426e+00 -6.53143952e-01 -8.81917104e-01\n",
      "   1.20894105e+00  1.80739223e+00 -5.11082737e-01]\n",
      " [ 1.73791700e+00 -1.24445674e+00 -1.11177517e+00 -4.99199275e-01\n",
      "   3.29567391e-01 -1.76964235e+00 -5.39430097e-01  1.13389342e+00\n",
      "   1.20894105e+00  1.80739223e+00 -5.11082737e-01]\n",
      " [-7.23297981e-01  1.03112130e+00  9.85993102e-01  1.73839896e+00\n",
      "   1.18466116e+00 -4.90629903e-02 -1.90399635e+00 -8.81917104e-01\n",
      "   1.20894105e+00  1.80739223e+00  7.46967077e-01]\n",
      " [-6.58501440e-02 -1.06667720e-01 -7.02714458e-01  4.19549669e-01\n",
      "   4.45361340e-02 -4.64411056e-01 -1.33542708e+00 -8.81917104e-01\n",
      "   1.20894105e+00  1.80739223e+00  2.00501689e+00]\n",
      " [-8.58159076e-01  1.03112130e+00  5.76112626e-01  2.79051468e+00\n",
      "  -1.07480537e-01  3.66285076e-01 -1.84713942e+00 -8.81917104e-01\n",
      "   1.20894105e+00  1.80739223e+00  3.26306671e+00]\n",
      " [ 2.20729683e-01 -1.24445674e+00 -8.99457087e-01 -5.58473400e-01\n",
      "   9.75638241e-01 -4.54027354e-01  4.27137666e-01  1.13389342e+00\n",
      "   1.20894105e+00  4.30331483e-01 -5.11082737e-01]]\n"
     ]
    }
   ],
   "source": [
    "from sklearn.preprocessing import StandardScaler\n",
    "import numpy as np\n",
    "scaler = StandardScaler()\n",
    "# Fit and transform the data\n",
    "scaled_data = scaler.fit_transform(data)\n",
    "\n",
    "# Display the standardized data\n",
    "print(scaled_data)"
   ]
  },
  {
   "cell_type": "markdown",
   "id": "c0df3979",
   "metadata": {},
   "source": [
    "Compute the covariance matrix of the standardized dataset"
   ]
  },
  {
   "cell_type": "code",
   "execution_count": 23,
   "id": "3070a118",
   "metadata": {},
   "outputs": [
    {
     "name": "stdout",
     "output_type": "stream",
     "text": [
      "[[ 1.03225806 -0.87965105 -0.87489175 -0.80120606  0.7031452  -0.89564839\n",
      "   0.43218997  0.68545953  0.61918186  0.49577781 -0.56869685]\n",
      " [-0.87965105  1.03225806  0.93113071  0.8593006  -0.72251676  0.80773759\n",
      "  -0.6103144  -0.83696702 -0.53946534 -0.50857972  0.54398792]\n",
      " [-0.87489175  0.93113071  1.03225806  0.81646306 -0.73312405  0.91662444\n",
      "  -0.44768814 -0.73333253 -0.61029888 -0.57349079  0.40771805]\n",
      " [-0.80120606  0.8593006   0.81646306  1.03225806 -0.46323522  0.67999782\n",
      "  -0.7310693  -0.74642244 -0.25104956 -0.12975923  0.77399997]\n",
      " [ 0.7031452  -0.72251676 -0.73312405 -0.46323522  1.03225806 -0.7354226\n",
      "   0.09414685  0.454481    0.73570181  0.7221782  -0.0937185 ]\n",
      " [-0.89564839  0.80773759  0.91662444  0.67999782 -0.7354226   1.03225806\n",
      "  -0.18035187 -0.57281618 -0.71483382 -0.60210271  0.44139968]\n",
      " [ 0.43218997 -0.6103144  -0.44768814 -0.7310693   0.09414685 -0.18035187\n",
      "   1.03225806  0.76855272 -0.23727573 -0.21954295 -0.67741856]\n",
      " [ 0.68545953 -0.83696702 -0.73333253 -0.74642244  0.454481   -0.57281618\n",
      "   0.76855272  1.03225806  0.17377561  0.21266926 -0.58798156]\n",
      " [ 0.61918186 -0.53946534 -0.61029888 -0.25104956  0.73570181 -0.71483382\n",
      "  -0.23727573  0.17377561  1.03225806  0.81967356  0.0593903 ]\n",
      " [ 0.49577781 -0.50857972 -0.57349079 -0.12975923  0.7221782  -0.60210271\n",
      "  -0.21954295  0.21266926  0.81967356  1.03225806  0.2829139 ]\n",
      " [-0.56869685  0.54398792  0.40771805  0.77399997 -0.0937185   0.44139968\n",
      "  -0.67741856 -0.58798156  0.0593903   0.2829139   1.03225806]]\n"
     ]
    }
   ],
   "source": [
    "cov_matrix = np.cov(scaled_data, rowvar=False)\n",
    "print(cov_matrix)\n"
   ]
  },
  {
   "cell_type": "markdown",
   "id": "ee420b44",
   "metadata": {},
   "source": [
    "Compute the eigenvectors and the eigenvalues of the covariance matrix"
   ]
  },
  {
   "cell_type": "code",
   "execution_count": 25,
   "id": "19d9c865",
   "metadata": {},
   "outputs": [],
   "source": [
    "eigenvalues, eigenvectors = np.linalg.eig(cov_matrix)\n"
   ]
  },
  {
   "cell_type": "code",
   "execution_count": 26,
   "id": "5ce9912d",
   "metadata": {},
   "outputs": [
    {
     "name": "stdout",
     "output_type": "stream",
     "text": [
      "Eigenvalues:\n",
      " [6.82157445 2.73596686 0.64742944 0.02275552 0.053714   0.07953203\n",
      " 0.126866   0.13962528 0.27829413 0.2306592  0.2184218 ]\n",
      "\n",
      "Eigenvectors:\n",
      " [[ 0.3625305  -0.0161244   0.22574419  0.12489563  0.13928524  0.23570162\n",
      "   0.75409142 -0.36772381 -0.02254025  0.10284468  0.10879743]\n",
      " [-0.37391603 -0.04374371  0.17531118  0.14069544 -0.84641949  0.05403527\n",
      "   0.23082493 -0.05727774 -0.00259184  0.05848381 -0.16855369]\n",
      " [-0.3681852   0.04932413  0.06148414 -0.66060648  0.04937979  0.19842785\n",
      "  -0.00114213 -0.21430308  0.25660788  0.3939953   0.33616451]\n",
      " [-0.33005692 -0.24878402 -0.14001476  0.25649206  0.24782351 -0.57583007\n",
      "   0.22235844  0.00149599 -0.06767616  0.54004744 -0.07143563]\n",
      " [ 0.29415138 -0.27469408 -0.16118879  0.03953025 -0.10149369 -0.04690123\n",
      "  -0.0321935  -0.02111986  0.85482874  0.07732727 -0.24449705]\n",
      " [-0.34610332  0.14303825 -0.34181851  0.5674487   0.09439426  0.35949825\n",
      "   0.00857193  0.0206683   0.24589931 -0.07502912  0.46493964]\n",
      " [ 0.20045635  0.46337482 -0.40316904 -0.18136178 -0.27067295 -0.52837719\n",
      "   0.23184002 -0.05001052  0.06807653 -0.16466591  0.33048032]\n",
      " [ 0.30651132  0.23164699 -0.42881517 -0.00841463 -0.15903909  0.35858262\n",
      "  -0.02593513  0.26578084 -0.21484862  0.59953955 -0.19401702]\n",
      " [ 0.23494289 -0.42941765  0.20576657 -0.02982354 -0.17778541 -0.04740398\n",
      "   0.05974695  0.5873051  -0.03046291  0.08978128  0.57081745]\n",
      " [ 0.20691624 -0.46234863 -0.28977993  0.05350708 -0.21382515 -0.00173504\n",
      "  -0.33615024 -0.60509762 -0.26469052  0.0483296   0.24356284]\n",
      " [-0.21401766 -0.41357106 -0.52854459 -0.31959468  0.0722595   0.17064068\n",
      "   0.39562911  0.17460319 -0.12678918 -0.36131875 -0.18352168]]\n"
     ]
    }
   ],
   "source": [
    "# Display results\n",
    "print(\"Eigenvalues:\\n\", eigenvalues)\n",
    "print(\"\\nEigenvectors:\\n\", eigenvectors)"
   ]
  },
  {
   "cell_type": "markdown",
   "id": "55d620fb",
   "metadata": {},
   "source": [
    "Computer the PVE of principal components"
   ]
  },
  {
   "cell_type": "code",
   "execution_count": 27,
   "id": "65d7952f",
   "metadata": {},
   "outputs": [
    {
     "name": "stdout",
     "output_type": "stream",
     "text": [
      "\n",
      "Proportion of Variance Explained (PVE):\n",
      "[0.60076366 0.24095163 0.05701793 0.00200404 0.00473049 0.00700424\n",
      " 0.01117286 0.01229654 0.02450886 0.02031374 0.01923601]\n"
     ]
    }
   ],
   "source": [
    "pve = eigenvalues / np.sum(eigenvalues)\n",
    "print(\"\\nProportion of Variance Explained (PVE):\")\n",
    "print(pve)"
   ]
  },
  {
   "cell_type": "markdown",
   "id": "a8923fc1",
   "metadata": {},
   "source": [
    "**<font color='darkorange'>Question 2.2</font>**\n",
    "- (a) How many PCs are sufficient to explain at least approximately 90% of the total variation in the data ?\n",
    "    - ใช้ 4 PCs เพราะว่า PC1 + PC2 + PC3 + PC4 ถึงจะมีค่า 90.07% ซึ่งเกิน 90% ดังนั้นจึงต้องใช้ 4 PCs\n",
    "- (b) Which of the original features get large weights (loadings) in PC1 ?\n",
    "    - จาก Eigenvectors ของ Standardized PCA, PC1 มีค่า loading สูงสุดที่:\n",
    "      - mpg = 0.3625\n",
    "      - disp = -0.3682\n",
    "      - hp = -0.3301\n",
    "      - wt = -0.3461\n",
    "- (c) Do the PCA outputs differ significantly between standardizing and not standardizing the dataset before applying PCA? Explain the results. \n",
    "    - Standardization ป้องกัน PCA จากการถูก features ที่มี scale ใหญ่ เช่น disp, hp, wt ทำให้เสียสมดุล ซึ่งจะทำให้ PCA มีโครงสร้างข้อมูลที่ดีขึ้น"
   ]
  },
  {
   "cell_type": "markdown",
   "id": "76240ba0",
   "metadata": {},
   "source": []
  },
  {
   "cell_type": "code",
   "execution_count": null,
   "id": "7d8b0605",
   "metadata": {
    "vscode": {
     "languageId": "markdown"
    }
   },
   "outputs": [],
   "source": []
  }
 ],
 "metadata": {
  "kernelspec": {
   "display_name": "Python 3",
   "language": "python",
   "name": "python3"
  },
  "language_info": {
   "codemirror_mode": {
    "name": "ipython",
    "version": 3
   },
   "file_extension": ".py",
   "mimetype": "text/x-python",
   "name": "python",
   "nbconvert_exporter": "python",
   "pygments_lexer": "ipython3",
   "version": "3.12.8"
  }
 },
 "nbformat": 4,
 "nbformat_minor": 5
}
