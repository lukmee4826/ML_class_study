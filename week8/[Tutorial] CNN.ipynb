{
 "cells": [
  {
   "cell_type": "markdown",
   "id": "f57e9d4d",
   "metadata": {
    "id": "kd4nHGz5E-T4"
   },
   "source": [
    "# Convolutional Neural Network\n",
    "\n",
    "In this tutorial, you will learn to train a deep convolutional neural network using Keras library with Tensorflow backend. We will use MNIST and Cat vs Dog dataset.\n",
    "\n",
    "See http://yann.lecun.com/exdb/mnist <br>\n",
    "See https://www.kaggle.com/c/dogs-vs-cats/data"
   ]
  },
  {
   "cell_type": "code",
   "execution_count": null,
   "id": "9a57c019",
   "metadata": {
    "executionInfo": {
     "elapsed": 2676,
     "status": "ok",
     "timestamp": 1664299589547,
     "user": {
      "displayName": "Unchalisa Taetragool",
      "userId": "11680776750936158565"
     },
     "user_tz": -420
    },
    "id": "8srCh1sWE-T_"
   },
   "outputs": [],
   "source": [
    "import keras\n",
    "from keras import models\n",
    "from keras import layers\n",
    "from keras import optimizers\n",
    "from keras import callbacks\n",
    "from keras import backend as K\n",
    "from keras.preprocessing import image\n",
    "from keras.datasets import mnist\n",
    "\n",
    "from sklearn.model_selection import train_test_split\n",
    "from sklearn.metrics import confusion_matrix, classification_report\n",
    "\n",
    "import numpy as np\n",
    "import matplotlib.pyplot as plt\n",
    "#%matplotlib inline\n",
    "%config InlineBackend.figure_formats = {'png', 'retina'}\n",
    "%load_ext autoreload\n",
    "%autoreload 2"
   ]
  },
  {
   "cell_type": "code",
   "execution_count": null,
   "id": "0baed083",
   "metadata": {
    "executionInfo": {
     "elapsed": 412,
     "status": "ok",
     "timestamp": 1664300992762,
     "user": {
      "displayName": "Unchalisa Taetragool",
      "userId": "11680776750936158565"
     },
     "user_tz": -420
    },
    "id": "hnREt4TuE-UB"
   },
   "outputs": [],
   "source": [
    "# %load _utils\n",
    "# define a function to plot the result from training step\n",
    "def show_result(history): \n",
    "    \n",
    "    # Print the result from the last epoch\n",
    "    print('Last train accuracy: %s'%history.history['sparse_categorical_accuracy'][-1])\n",
    "    print('Last validation accuracy: %s'%history.history['val_sparse_categorical_accuracy'][-1])\n",
    "    \n",
    "    loss = history.history['loss']\n",
    "    val_loss = history.history['val_loss']\n",
    "    \n",
    "    acc = history.history['sparse_categorical_accuracy']\n",
    "    val_acc = history.history['val_sparse_categorical_accuracy']\n",
    "    \n",
    "    epochs = range(1, len(loss) + 1)   \n",
    "    \n",
    "    # Define a subplot \n",
    "    fig, axs = plt.subplots(1,2,figsize=(15,4))\n",
    "    \n",
    "    # Plot loss\n",
    "    loss_plot = axs[0]\n",
    "    \n",
    "    loss_plot.plot(epochs, loss, 'c--', label='Training loss')\n",
    "    loss_plot.plot(epochs, val_loss, 'b', label='Validation loss')\n",
    "    loss_plot.set_title('Training and validation loss')\n",
    "    loss_plot.set_xlabel('Epochs')\n",
    "    loss_plot.set_ylabel('Loss')\n",
    "    loss_plot.legend()\n",
    "    \n",
    "    # Plot accuracy\n",
    "    acc_plot = axs[1]\n",
    "    \n",
    "    acc_plot.plot(epochs, acc, 'c--', label='Training acc')\n",
    "    acc_plot.plot(epochs, val_acc, 'b', label='Validation acc')\n",
    "    acc_plot.set_title('Training and validation accuracy')\n",
    "    acc_plot.set_xlabel('Epochs')\n",
    "    acc_plot.set_ylabel('Accuracy')\n",
    "    acc_plot.legend()\n",
    "\n",
    "# Define an evaluation function to print the evaluation result\n",
    "def evaluation_report(model,features,labels):\n",
    "    \n",
    "    # Calculate result\n",
    "    result = model.evaluate(features,labels,verbose=False)\n",
    "    \n",
    "    # Predict and convert into a class\n",
    "    pred_class = model.predict(features).argmax(axis=1)\n",
    "    \n",
    "    # Show report\n",
    "    print(confusion_matrix(labels,pred_class))\n",
    "    print(classification_report(labels,pred_class))\n",
    "    print(\"Loss: %s Accuracy: %s\" %(result[0],result[1]))\n",
    "\n",
    "    return pred_class\n",
    "\n",
    "\n",
    "# Show a subplot of the incorrect predict data\n",
    "def show_false_prediction(predict, feature, label, img_size=28,channel=1):\n",
    "\n",
    "    false_pred = feature[(predict != label).tolist()]\n",
    "    actual_label = label[(predict != label).tolist()]\n",
    "    false_label = predict[(predict != label).tolist()]\n",
    "    if channel == 3:\n",
    "        false_pred = false_pred.reshape(false_pred.shape[0],img_size,img_size,channel)\n",
    "    elif channel == 1:\n",
    "        false_pred = false_pred.reshape(false_pred.shape[0],img_size,img_size)\n",
    "    else:\n",
    "        raise ValueError('Must be RGB or gray scale image')\n",
    "    \n",
    "    print(false_pred.shape)\n",
    "\n",
    "    fig, ax = plt.subplots(3,10,figsize=(15,6))\n",
    "    fig.suptitle('The incorrect prediction')\n",
    "\n",
    "    for i in range(3):\n",
    "        for j in range(10):\n",
    "            ax[i,j].imshow(false_pred[j + i*10],cmap='gray')\n",
    "            ax[i,j].set_title('Pred %s Act %s'%(false_label[j + i*10],actual_label[j + i*10]))\n",
    "\n",
    "# Show activation value of each layer\n",
    "def show_layer_activation(activation, model,num_layer,num_row=16):\n",
    "    layer_names = []\n",
    "    for layer in model.layers[:num_layer]:\n",
    "        layer_names.append(layer.name)\n",
    "\n",
    "    images_per_row = num_row\n",
    "    for layer_name, layer_activation in zip(layer_names,activation):\n",
    "        n_features = layer_activation.shape[-1]\n",
    "\n",
    "        size = layer_activation.shape[1]\n",
    "\n",
    "        n_cols = n_features//images_per_row\n",
    "        display_grid = np.zeros((size * n_cols, images_per_row * size))\n",
    "\n",
    "        for col in range(n_cols):\n",
    "            for row in range(images_per_row):\n",
    "                channel_image = layer_activation[0,:,:,col*images_per_row + row]\n",
    "                channel_image -= channel_image.mean()\n",
    "                channel_image /= channel_image.std()\n",
    "                channel_image *= 64\n",
    "                channel_image += 128\n",
    "                channel_image = np.clip(channel_image, 0,255).astype('uint8')\n",
    "                display_grid[col*size:(col +1)*size,\n",
    "                             row*size:(row+1)*size] = channel_image\n",
    "        scale = 1./size\n",
    "        plt.figure(figsize=(scale*display_grid.shape[1],\n",
    "                           scale*display_grid.shape[0]))\n",
    "        plt.title(layer_name)\n",
    "        plt.grid(False)\n",
    "        plt.imshow(display_grid, aspect='auto', cmap='viridis')\n",
    "        \n",
    "def deprocess_image(img):\n",
    "    \n",
    "    # Zero-centering and make sure that std is 0.1\n",
    "    img -= img.mean()\n",
    "    img /= (img.std() + 1e-5)\n",
    "    img *= 0.1\n",
    "    \n",
    "    # Clips to [0,1]\n",
    "    img += 0.5\n",
    "    img = np.clip(img,0,1)\n",
    "    \n",
    "    # Convert to RGB array\n",
    "    img *= 255\n",
    "    img = np.clip(img,0,255).astype('uint8')\n",
    "    \n",
    "    return img\n",
    "\n",
    "def generate_pattern(model, layer_name , filter_index, size=150):\n",
    "    # Build the loss function that maximize the activation of the nth filter of the layer under consideration\n",
    "    layer_output = model.get_layer(layer_name).output\n",
    "    loss = K.mean(layer_output[:,:,:,filter_index])\n",
    "    \n",
    "    # Compute the gradient of the input picture with regard to this loss\n",
    "    grads = K.gradients(loss, model.input)[0]\n",
    "    \n",
    "    # Normalize the gradient\n",
    "    grads /= (K.sqrt(K.mean(K.square(grads))) +1e-5)\n",
    "    \n",
    "    # Return the loss and gradient given the input picture\n",
    "    iterate = K.function([model.input],[loss, grads])\n",
    "    \n",
    "    # Stars from a gray image with some noise\n",
    "    input_img_data = np.random.random((1, size, size, 3)) * 20 + 128.\n",
    "    \n",
    "    # Run gradient ascent for 40 step\n",
    "    step = 1.\n",
    "    for i in range(40):\n",
    "        loss_value, grads_value = iterate([input_img_data])\n",
    "        input_img_data += grads_value * step\n",
    "        \n",
    "    img = input_img_data[0]\n",
    "    return deprocess_image(img)"
   ]
  },
  {
   "cell_type": "markdown",
   "id": "4a2bf528",
   "metadata": {
    "id": "hvHaiB5eE-UH"
   },
   "source": [
    "### 1. Load MNIST dataset "
   ]
  },
  {
   "cell_type": "code",
   "execution_count": null,
   "id": "be45d748",
   "metadata": {
    "colab": {
     "base_uri": "https://localhost:8080/"
    },
    "executionInfo": {
     "elapsed": 1043,
     "status": "ok",
     "timestamp": 1664299603060,
     "user": {
      "displayName": "Unchalisa Taetragool",
      "userId": "11680776750936158565"
     },
     "user_tz": -420
    },
    "id": "HBsMVp0LE-UJ",
    "outputId": "9d7cfec2-d75d-4c87-9d6f-faccfd311cae"
   },
   "outputs": [],
   "source": [
    "### Load dataset ###\n",
    "(X_train,y_train), (X_test,y_test) = mnist.load_data()\n",
    "####################"
   ]
  },
  {
   "cell_type": "code",
   "execution_count": null,
   "id": "b72d137b",
   "metadata": {
    "colab": {
     "base_uri": "https://localhost:8080/"
    },
    "executionInfo": {
     "elapsed": 411,
     "status": "ok",
     "timestamp": 1664299605390,
     "user": {
      "displayName": "Unchalisa Taetragool",
      "userId": "11680776750936158565"
     },
     "user_tz": -420
    },
    "id": "HsKnvUn7E-UK",
    "outputId": "c02f4110-643e-4135-831e-b5aadfb7dae4"
   },
   "outputs": [],
   "source": [
    "X_train.shape"
   ]
  },
  {
   "cell_type": "markdown",
   "id": "95317458",
   "metadata": {
    "id": "QpHvdIqME-UL"
   },
   "source": [
    "### 2. Preprocess data \n",
    "Use Min-Max (0,1) scaling "
   ]
  },
  {
   "cell_type": "code",
   "execution_count": null,
   "id": "7b5420ac",
   "metadata": {
    "executionInfo": {
     "elapsed": 3,
     "status": "ok",
     "timestamp": 1664299609409,
     "user": {
      "displayName": "Unchalisa Taetragool",
      "userId": "11680776750936158565"
     },
     "user_tz": -420
    },
    "id": "5NWFv2UUE-UM"
   },
   "outputs": [],
   "source": [
    "def preprocess(data):\n",
    "    data = data.reshape(data.shape[0],data.shape[1],data.shape[2],1)\n",
    "    data = data.astype('float32')/255.\n",
    "    return data\n",
    "\n",
    "X_train = preprocess(X_train)\n",
    "X_test = preprocess(X_test)"
   ]
  },
  {
   "cell_type": "code",
   "execution_count": null,
   "id": "8335d74f",
   "metadata": {
    "executionInfo": {
     "elapsed": 2,
     "status": "ok",
     "timestamp": 1664299612795,
     "user": {
      "displayName": "Unchalisa Taetragool",
      "userId": "11680776750936158565"
     },
     "user_tz": -420
    },
    "id": "NbhKV0blE-UM"
   },
   "outputs": [],
   "source": [
    "IMG_WIDTH = X_train.shape[1]\n",
    "IMG_HEIGHT = X_train.shape[2]\n",
    "CHANNEL = X_train.shape[3]"
   ]
  },
  {
   "cell_type": "code",
   "execution_count": null,
   "id": "05cda639",
   "metadata": {
    "executionInfo": {
     "elapsed": 393,
     "status": "ok",
     "timestamp": 1664299615146,
     "user": {
      "displayName": "Unchalisa Taetragool",
      "userId": "11680776750936158565"
     },
     "user_tz": -420
    },
    "id": "6_gjCCpxE-UN"
   },
   "outputs": [],
   "source": [
    "BATCH_SIZE = 32"
   ]
  },
  {
   "cell_type": "markdown",
   "id": "98293755",
   "metadata": {
    "id": "d5s7Hv1UE-UN"
   },
   "source": [
    "### 3. Build a convolutional neural network \n"
   ]
  },
  {
   "cell_type": "code",
   "execution_count": null,
   "id": "9189b0df",
   "metadata": {
    "colab": {
     "base_uri": "https://localhost:8080/"
    },
    "executionInfo": {
     "elapsed": 3252,
     "status": "ok",
     "timestamp": 1664299620725,
     "user": {
      "displayName": "Unchalisa Taetragool",
      "userId": "11680776750936158565"
     },
     "user_tz": -420
    },
    "id": "L0IaDwDnE-UO",
    "outputId": "909fab82-8863-4f02-afb2-ee2af6be9ba2"
   },
   "outputs": [],
   "source": [
    "cnn = models.Sequential()\n",
    "cnn.add(layers.Input(shape=(IMG_WIDTH,IMG_HEIGHT,CHANNEL,)))\n",
    "cnn.add(layers.Conv2D(filters=32,           # 32 filters\n",
    "                      kernel_size=3,        # 3x3 filter/kernel, stride=(1,1) (default)\n",
    "                      padding='same',       # No padding\n",
    "                      activation = 'elu',\n",
    "                      kernel_initializer='he_normal',\n",
    "                      name = 'conv_1',\n",
    "                     ))\n",
    "cnn.add(layers.Conv2D(filters=32,\n",
    "                      kernel_size=3,\n",
    "                      padding='same',\n",
    "                      activation = 'elu',\n",
    "                      kernel_initializer='he_normal',\n",
    "                      name = 'conv_2',\n",
    "                     ))\n",
    "cnn.add(layers.MaxPooling2D(2,2,name='max_pool_1'))  # Max pooling with 2x2 filter \n",
    "cnn.add(layers.Conv2D(filters=64,\n",
    "                      kernel_size=3,\n",
    "                      padding='same',\n",
    "                      kernel_initializer='he_normal',\n",
    "                      activation = 'elu',\n",
    "                      name = 'conv_3',\n",
    "                     ))\n",
    "cnn.add(layers.Conv2D(filters=64,\n",
    "                      kernel_size=3,\n",
    "                      padding='same',\n",
    "                      kernel_initializer='he_normal',\n",
    "                      activation = 'elu',\n",
    "                      name = 'conv_4',\n",
    "                     ))\n",
    "cnn.add(layers.MaxPooling2D(2,2,name='max_pool_2'))\n",
    "cnn.add(layers.Dropout(0.25,name='dropout_1'))\n",
    "cnn.add(layers.Flatten())\n",
    "cnn.add(layers.Dense(256,activation='elu',\n",
    "                     kernel_initializer='he_normal',\n",
    "                     name='fully_connect_1'\n",
    "                    ))\n",
    "cnn.add(layers.Dropout(0.5,name='dropout_2'))\n",
    "cnn.add(layers.Dense(10,activation='softmax',            \n",
    "                     kernel_initializer='he_normal',\n",
    "                     name='output'\n",
    "                    ))\n",
    "cnn.compile(optimizer='adam',\n",
    "           loss = 'sparse_categorical_crossentropy',\n",
    "           metrics=['sparse_categorical_accuracy'])\n",
    "cnn.summary()"
   ]
  },
  {
   "cell_type": "markdown",
   "id": "fd9eab48",
   "metadata": {
    "id": "AK8o2QUqE-UP"
   },
   "source": [
    "### 4. Trainig CNN Model\n",
    "- Take 20% of the data for the validation set. \n",
    "- Train for 20 epochs and save the intemediate model. "
   ]
  },
  {
   "cell_type": "code",
   "execution_count": null,
   "id": "30f7b10d",
   "metadata": {
    "executionInfo": {
     "elapsed": 473,
     "status": "ok",
     "timestamp": 1664299627288,
     "user": {
      "displayName": "Unchalisa Taetragool",
      "userId": "11680776750936158565"
     },
     "user_tz": -420
    },
    "id": "2W1oNDwoE-UQ"
   },
   "outputs": [],
   "source": [
    "X_train, X_val, y_train, y_val = train_test_split(X_train,y_train,test_size=0.2,random_state=0,stratify=y_train)"
   ]
  },
  {
   "cell_type": "code",
   "execution_count": null,
   "id": "04a2c80d",
   "metadata": {
    "colab": {
     "base_uri": "https://localhost:8080/",
     "height": 1000
    },
    "executionInfo": {
     "elapsed": 143542,
     "status": "ok",
     "timestamp": 1664299774645,
     "user": {
      "displayName": "Unchalisa Taetragool",
      "userId": "11680776750936158565"
     },
     "user_tz": -420
    },
    "id": "fAL8krZRE-UQ",
    "outputId": "337cc36b-a216-44e8-bc45-3e7fcaa89888"
   },
   "outputs": [],
   "source": [
    "history = cnn.fit(X_train,y_train,batch_size=64,epochs=20,validation_data=(X_val,y_val))\n",
    "cnn.save('baseline_model_itr20.keras')\n"
   ]
  },
  {
   "cell_type": "markdown",
   "id": "8c279b08",
   "metadata": {
    "id": "XfCzVM-zFOtf"
   },
   "source": [
    "```verbose=False``` will show you nothing (silent)\n",
    "\n",
    "```verbose=TURE``` will show you an animated progress bar like this:\n",
    "[==============================]\n"
   ]
  },
  {
   "cell_type": "markdown",
   "id": "ddfbd7e1",
   "metadata": {},
   "source": [
    "\n",
    "Continuing training ..."
   ]
  },
  {
   "cell_type": "code",
   "execution_count": null,
   "id": "06e134b3",
   "metadata": {
    "colab": {
     "base_uri": "https://localhost:8080/",
     "height": 330
    },
    "executionInfo": {
     "elapsed": 40402,
     "status": "ok",
     "timestamp": 1664299824482,
     "user": {
      "displayName": "Unchalisa Taetragool",
      "userId": "11680776750936158565"
     },
     "user_tz": -420
    },
    "id": "9vYyy_XWE-UR",
    "outputId": "06fe8324-4562-46f8-bb42-8b0b99cfab0d"
   },
   "outputs": [],
   "source": [
    "history = cnn.fit(X_train,y_train,batch_size=128,epochs=10,validation_data=(X_val,y_val),verbose=False)\n",
    "cnn.save('baseline_model_itr10_verboseFalse.keras')\n",
    "show_result(history)"
   ]
  },
  {
   "cell_type": "markdown",
   "id": "1ff8a1c8",
   "metadata": {},
   "source": [
    "Train model with early stopping"
   ]
  },
  {
   "cell_type": "code",
   "execution_count": null,
   "id": "8ab77fd4",
   "metadata": {
    "colab": {
     "base_uri": "https://localhost:8080/",
     "height": 330
    },
    "executionInfo": {
     "elapsed": 13427,
     "status": "ok",
     "timestamp": 1664299844205,
     "user": {
      "displayName": "Unchalisa Taetragool",
      "userId": "11680776750936158565"
     },
     "user_tz": -420
    },
    "id": "yVCUR3-HE-US",
    "outputId": "99b9dac8-5d64-4d02-e08c-c64d7ce221b9"
   },
   "outputs": [],
   "source": [
    "cnn = models.load_model('baseline_model_itr20.keras')\n",
    "\n",
    "early_stop = callbacks.EarlyStopping(monitor='val_loss', patience=2)\n",
    "history = cnn.fit(X_train,y_train,batch_size=128,epochs=10,\n",
    "                  validation_data=(X_val,y_val),\n",
    "                  callbacks=[early_stop],\n",
    "                  verbose=False)\n",
    "cnn.save('baseline_model_itr10_earlystop.keras')\n",
    "show_result(history)"
   ]
  },
  {
   "cell_type": "markdown",
   "id": "e2091673",
   "metadata": {
    "id": "wJ7w3N1oE-US"
   },
   "source": [
    "### 5. Evaluate your model \n",
    "#### 5.1 Show the confusion matrix and classification report\n",
    "Using function ```evaluation_report(model,feature,label)``` define above to print the classification report"
   ]
  },
  {
   "cell_type": "code",
   "execution_count": null,
   "id": "f57ef2a7",
   "metadata": {
    "colab": {
     "base_uri": "https://localhost:8080/"
    },
    "executionInfo": {
     "elapsed": 1945,
     "status": "ok",
     "timestamp": 1664299864361,
     "user": {
      "displayName": "Unchalisa Taetragool",
      "userId": "11680776750936158565"
     },
     "user_tz": -420
    },
    "id": "NfC8AkPDE-US",
    "outputId": "a6fb2f1d-58dd-48fe-8483-3d9bc0060e22"
   },
   "outputs": [],
   "source": [
    "pred_class = evaluation_report(cnn,X_test,y_test)"
   ]
  },
  {
   "cell_type": "markdown",
   "id": "1ada3804",
   "metadata": {
    "id": "Q_GCwGPGE-UT"
   },
   "source": [
    "### 5.2 Show which image that your model incorrectly predict\n",
    "\n",
    "Using function ```show_false_prediction(pred_class, actual_feature, actual_label)``` that is define above to show which image that your model predict wrong."
   ]
  },
  {
   "cell_type": "code",
   "execution_count": null,
   "id": "e550ae60",
   "metadata": {
    "colab": {
     "base_uri": "https://localhost:8080/",
     "height": 422
    },
    "executionInfo": {
     "elapsed": 3550,
     "status": "ok",
     "timestamp": 1664299876350,
     "user": {
      "displayName": "Unchalisa Taetragool",
      "userId": "11680776750936158565"
     },
     "user_tz": -420
    },
    "id": "DgVF6elPE-UT",
    "outputId": "699fea41-c118-4f75-f29a-10dea1068cad"
   },
   "outputs": [],
   "source": [
    "show_false_prediction(pred_class, X_test, y_test)"
   ]
  },
  {
   "cell_type": "markdown",
   "id": "d240ea92",
   "metadata": {
    "id": "cdW-LmsOE-UU"
   },
   "source": [
    "**Discuss the results**\n",
    "\n",
    "*Discussion*"
   ]
  },
  {
   "cell_type": "markdown",
   "id": "9db39a24",
   "metadata": {},
   "source": []
  }
 ],
 "metadata": {
  "language_info": {
   "name": "python"
  }
 },
 "nbformat": 4,
 "nbformat_minor": 5
}
