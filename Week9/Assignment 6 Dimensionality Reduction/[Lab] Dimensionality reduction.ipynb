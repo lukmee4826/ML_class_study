{
 "cells": [
  {
   "cell_type": "markdown",
   "id": "4b9a3486",
   "metadata": {},
   "source": [
    "# LAB: Dimensionality Reduction"
   ]
  },
  {
   "cell_type": "markdown",
   "id": "00527822",
   "metadata": {},
   "source": [
    "**Load necessary packages and apply custom configurations**"
   ]
  },
  {
   "cell_type": "code",
   "execution_count": 3,
   "id": "3ce58d95",
   "metadata": {},
   "outputs": [
    {
     "name": "stdout",
     "output_type": "stream",
     "text": [
      "Python version 3.11.8\n",
      "Numpy version 1.26.4\n",
      "Scipy version 1.13.1\n",
      "Pandas version 2.2.2\n",
      "Matplotlib version 3.9.2\n",
      "Seaborn version 0.13.2\n"
     ]
    }
   ],
   "source": [
    "import warnings; \n",
    "warnings.filterwarnings(\"ignore\")\n",
    "warnings.simplefilter(action=\"ignore\",category=UserWarning)\n",
    "warnings.simplefilter(action=\"ignore\",category=FutureWarning)\n",
    "\n",
    "# Suppress valuewarning when fitting ARIMA model.\n",
    "from statsmodels.tools.sm_exceptions import ValueWarning\n",
    "warnings.simplefilter('ignore', ValueWarning)\n",
    "\n",
    "\n",
    "# Interactive plots embedded within the notebook\n",
    "#%matplotlib notebook \n",
    "# Static images of plots embedded within the notebook\n",
    "# %matplotlib inline   \n",
    "%config InlineBackend.figure_formats = {'png', 'retina'}\n",
    "\n",
    "from IPython.core.interactiveshell import InteractiveShell\n",
    "InteractiveShell.ast_node_interactivity = \"all\"\n",
    "\n",
    "from scipy import stats\n",
    "\n",
    "import numpy as np\n",
    "import scipy as sp\n",
    "import matplotlib as mpl\n",
    "import matplotlib.pyplot as plt\n",
    "import seaborn as sns\n",
    "import pandas as pd\n",
    "import statsmodels as sm\n",
    "from platform import python_version\n",
    "\n",
    "#pd.options.plotting.backend = \"plotly\" \n",
    "# Conflict with options in original matplotlib.\n",
    "\n",
    "print('Python version', python_version())\n",
    "print('Numpy version', np.__version__)\n",
    "print('Scipy version', sp.__version__)\n",
    "print('Pandas version', pd.__version__)\n",
    "print('Matplotlib version', mpl.__version__)\n",
    "print('Seaborn version', sns.__version__)\n",
    "###############################################\n",
    "\n",
    "#plt.style.use('ggplot')\n",
    "plt.style.use('seaborn-v0_8-muted')\n",
    "plt.rcParams['figure.figsize'] = (6, 6)\n",
    "plt.rcParams['grid.linestyle'] = ':'   \n",
    "plt.rcParams['axes.grid'] = False\n",
    "\n",
    "sns.set_style(\"whitegrid\", {'axes.grid' : False})\n",
    "#sns.color_palette(\"RdBu\", n_colors=10)\n",
    "#sns.color_palette(\"RdBu_r') # Good for heatmap"
   ]
  },
  {
   "cell_type": "markdown",
   "id": "6a0c3029",
   "metadata": {},
   "source": [
    "# Part I: Linear PCA"
   ]
  },
  {
   "cell_type": "markdown",
   "id": "bbc0845e",
   "metadata": {},
   "source": [
    "**Create a dataset**   \n",
    "rows = instances, columns = features/variables  "
   ]
  },
  {
   "cell_type": "code",
   "execution_count": 4,
   "id": "01fa47fe",
   "metadata": {},
   "outputs": [
    {
     "name": "stdout",
     "output_type": "stream",
     "text": [
      "[[ 9 39]\n",
      " [15 56]\n",
      " [25 93]\n",
      " [14 61]\n",
      " [10 50]\n",
      " [18 75]\n",
      " [ 0 32]\n",
      " [16 85]\n",
      " [ 5 42]\n",
      " [19 70]\n",
      " [16 66]\n",
      " [20 80]]\n"
     ]
    }
   ],
   "source": [
    "x1 = np.array([9,15,25,14,10,18,0,16,5,19,16,20])\n",
    "x2 = np.array([39,56,93,61,50,75,32,85,42,70,66,80])\n",
    "\n",
    "D = np.vstack((x1,x2)).T \n",
    "print(D)"
   ]
  },
  {
   "cell_type": "markdown",
   "id": "b3d094a1",
   "metadata": {},
   "source": [
    "Make the dataset zero-mean by subtracting each column by its mean."
   ]
  },
  {
   "cell_type": "code",
   "execution_count": null,
   "id": "75d1f871",
   "metadata": {},
   "outputs": [],
   "source": []
  },
  {
   "cell_type": "markdown",
   "id": "f94d92ae",
   "metadata": {},
   "source": [
    "Compute the sample covariance matrix $S$ from the zero-mean data using `np.cov`.  \n",
    "    \n",
    "   \n",
    "Use the option `rowvar=False` to treat the variables column-wise.  \n",
    "The sum is divided by  $N-1$ by default (option `bias=False` or `ddof=1`)"
   ]
  },
  {
   "cell_type": "code",
   "execution_count": null,
   "id": "ef24ca53",
   "metadata": {},
   "outputs": [],
   "source": []
  },
  {
   "cell_type": "markdown",
   "id": "b713fa72",
   "metadata": {},
   "source": [
    "Compute the eigenpairs of the covariance matrix $S$ to get the principal components.  \n",
    "Show the eigenvectors sorted by the largest eigenvalues first, and the corresponding eigenvalues."
   ]
  },
  {
   "cell_type": "code",
   "execution_count": null,
   "id": "5288d04c",
   "metadata": {},
   "outputs": [],
   "source": []
  },
  {
   "cell_type": "markdown",
   "id": "de4e39af",
   "metadata": {},
   "source": [
    "Take $r=2$ principal components as the matrix `Pr`"
   ]
  },
  {
   "cell_type": "code",
   "execution_count": null,
   "id": "61010d73",
   "metadata": {},
   "outputs": [],
   "source": []
  },
  {
   "cell_type": "markdown",
   "id": "1826d140",
   "metadata": {},
   "source": [
    "Transform the data to obtain the reduced-dimension data $Z$ by multiplying  \n",
    "    the zero-mean data $X$ to the matrix of principal components $Pr$."
   ]
  },
  {
   "cell_type": "code",
   "execution_count": null,
   "id": "b4ea4a1e",
   "metadata": {},
   "outputs": [],
   "source": []
  },
  {
   "cell_type": "markdown",
   "id": "6305c200",
   "metadata": {},
   "source": [
    "Inverse-transform the data by multiplying the transformed data and the matrix of principal components. "
   ]
  },
  {
   "cell_type": "code",
   "execution_count": null,
   "id": "2a9fcf2f",
   "metadata": {},
   "outputs": [],
   "source": []
  },
  {
   "cell_type": "markdown",
   "id": "2eae1637",
   "metadata": {},
   "source": [
    "<font color='blue'>Determine the variance explained by each principal component from the eigenvalues, \n",
    "the PVEs and the cumulative PVEs from the eigenvalues. "
   ]
  },
  {
   "cell_type": "code",
   "execution_count": null,
   "id": "30995607",
   "metadata": {},
   "outputs": [],
   "source": []
  },
  {
   "cell_type": "markdown",
   "id": "23f96d86",
   "metadata": {},
   "source": [
    "# Part II: Dimensionaltiy reduction with PCA"
   ]
  },
  {
   "cell_type": "markdown",
   "id": "1cf1655d",
   "metadata": {},
   "source": [
    "The dataset from sheet `MTCARS` in file `dimensionality-reduction.xlsx`. The dataset contains 11 columns:\n",
    "- `mpg`: Miles per gallon (Fuel efficience)\n",
    "- `cyl`: Number of cyclinders  \n",
    "- `disp`: Displacement (Proxy to power generated by engine)  \n",
    "- `hp`: Gross horse power  (Engine power output)\n",
    "- `drat`: Rear axle ratio (# turns of the drive shaft for every one rotation of the wheel axle). \n",
    "          High ratio = More torque\n",
    "- `wt`: Weight in 1000lbs\n",
    "- `qsec`: 1/4 mile time (Fastest time to travel 1/4 mile in seconds)\n",
    "- `vs`: Engine cylinder configuration (V-shape or Straight line)\n",
    "- `am`: Transmission Type (Automatic or Manual)\n",
    "- `gear`: Number of forward gears\n",
    "- `carb`: Number of carburetors. Engines with higher displacement typically have higher barrel configuration"
   ]
  },
  {
   "cell_type": "markdown",
   "id": "748c23dc",
   "metadata": {},
   "source": [
    "Load and explore the dataset"
   ]
  },
  {
   "cell_type": "code",
   "execution_count": null,
   "id": "c3ec554f",
   "metadata": {},
   "outputs": [],
   "source": []
  },
  {
   "cell_type": "markdown",
   "id": "836a546f",
   "metadata": {},
   "source": [
    "Compute the covariance matrix of the dataset"
   ]
  },
  {
   "cell_type": "code",
   "execution_count": null,
   "id": "3e51b3af",
   "metadata": {},
   "outputs": [],
   "source": []
  },
  {
   "cell_type": "markdown",
   "id": "341579ab",
   "metadata": {},
   "source": [
    "Compute the eigenvectors and the eigenvalues of the covariance matrix"
   ]
  },
  {
   "cell_type": "code",
   "execution_count": null,
   "id": "18dffc6d",
   "metadata": {},
   "outputs": [],
   "source": []
  },
  {
   "cell_type": "markdown",
   "id": "6c59cbbc",
   "metadata": {},
   "source": [
    "Computer the PVE of principal components"
   ]
  },
  {
   "cell_type": "code",
   "execution_count": null,
   "id": "af36b417",
   "metadata": {},
   "outputs": [],
   "source": []
  },
  {
   "cell_type": "markdown",
   "id": "adfe3037",
   "metadata": {},
   "source": [
    "**<font color='darkorange'>Question 2.1</font>**\n",
    "- (a) How many PCs are sufficient to explain at least approximately 90% of the total variation in the data ?\n",
    "- (b) Which of the original features get large weights (loadings) in PC1 ?"
   ]
  },
  {
   "cell_type": "markdown",
   "id": "b66f4c79",
   "metadata": {},
   "source": []
  },
  {
   "cell_type": "markdown",
   "id": "bb13562d",
   "metadata": {},
   "source": [
    "Standardize the data with `StandardScaler()` in scikit-learn."
   ]
  },
  {
   "cell_type": "code",
   "execution_count": null,
   "id": "d9a4b6ec",
   "metadata": {},
   "outputs": [],
   "source": []
  },
  {
   "cell_type": "markdown",
   "id": "c0df3979",
   "metadata": {},
   "source": [
    "Compute the covariance matrix of the standardized dataset"
   ]
  },
  {
   "cell_type": "code",
   "execution_count": null,
   "id": "3070a118",
   "metadata": {},
   "outputs": [],
   "source": []
  },
  {
   "cell_type": "markdown",
   "id": "ee420b44",
   "metadata": {},
   "source": [
    "Compute the eigenvectors and the eigenvalues of the covariance matrix"
   ]
  },
  {
   "cell_type": "code",
   "execution_count": null,
   "id": "19d9c865",
   "metadata": {},
   "outputs": [],
   "source": []
  },
  {
   "cell_type": "markdown",
   "id": "55d620fb",
   "metadata": {},
   "source": [
    "Computer the PVE of principal components"
   ]
  },
  {
   "cell_type": "code",
   "execution_count": null,
   "id": "65d7952f",
   "metadata": {},
   "outputs": [],
   "source": []
  },
  {
   "cell_type": "markdown",
   "id": "a8923fc1",
   "metadata": {},
   "source": [
    "**<font color='darkorange'>Question 2.2</font>**\n",
    "- (a) How many PCs are sufficient to explain at least approximately 90% of the total variation in the data ?\n",
    "- (b) Which of the original features get large weights (loadings) in PC1 ?\n",
    "- (c) Do the PCA outputs differ significantly between standardizing and not standardizing the dataset before applying PCA? Explain the results. "
   ]
  },
  {
   "cell_type": "markdown",
   "id": "76240ba0",
   "metadata": {},
   "source": []
  }
 ],
 "metadata": {},
 "nbformat": 4,
 "nbformat_minor": 5
}
