{
 "cells": [
  {
   "cell_type": "code",
   "execution_count": null,
   "id": "6beecf3d",
   "metadata": {},
   "outputs": [],
   "source": [
    "import warnings; \n",
    "warnings.filterwarnings(\"ignore\")\n",
    "warnings.simplefilter(action=\"ignore\",category=UserWarning)\n",
    "warnings.simplefilter(action=\"ignore\",category=FutureWarning)\n",
    "\n",
    "\n",
    "# Interactive plots embedded within the notebook\n",
    "#%matplotlib notebook \n",
    "# Static images of plots embedded within the notebook\n",
    "#%matplotlib inline   \n",
    "%config InlineBackend.figure_formats = {'png', 'retina'}\n",
    "\n",
    "from IPython.core.interactiveshell import InteractiveShell\n",
    "InteractiveShell.ast_node_interactivity = \"all\"\n",
    "\n",
    "from scipy import stats\n",
    "\n",
    "import numpy as np\n",
    "import scipy as sp\n",
    "import matplotlib as mpl\n",
    "import matplotlib.pyplot as plt\n",
    "import seaborn as sns\n",
    "import pandas as pd\n",
    "import statsmodels as stm\n",
    "import statsmodels.api as sm\n",
    "from platform import python_version\n",
    "\n",
    "#pd.options.plotting.backend = \"plotly\" \n",
    "# Conflict with options in original matplotlib.\n",
    "\n",
    "print('Python version', python_version())\n",
    "print('Numpy version', np.__version__)\n",
    "print('Scipy version', sp.__version__)\n",
    "print('Pandas version', pd.__version__)\n",
    "print('Matplotlib version', mpl.__version__)\n",
    "print('Seaborn version', sns.__version__)\n",
    "print('Statsmodels version', stm.__version__)\n",
    "###############################################\n",
    "\n",
    "#plt.style.use('ggplot')\n",
    "plt.style.use('seaborn-v0_8-muted')\n",
    "plt.rcParams['figure.figsize'] = (6, 6)\n",
    "plt.rcParams['grid.linestyle'] = ':'   \n",
    "plt.rcParams['axes.grid'] = False\n",
    "\n",
    "sns.set_style(\"whitegrid\", {'axes.grid' : False})\n",
    "#sns.color_palette(\"RdBu\", n_colors=10)\n",
    "#sns.color_palette(\"RdBu_r') # Good for heatmap"
   ]
  },
  {
   "cell_type": "markdown",
   "id": "d5b2a67f",
   "metadata": {},
   "source": [
    "# Mahalanobis Distance (MHD)"
   ]
  },
  {
   "cell_type": "markdown",
   "id": "8a83c254",
   "metadata": {},
   "source": [
    "Create a synthetic data"
   ]
  },
  {
   "cell_type": "code",
   "execution_count": null,
   "id": "2d98afb0",
   "metadata": {},
   "outputs": [],
   "source": [
    "import pandas as pd \n",
    "\n",
    "df = pd.DataFrame({'Height':[64,66,68,69,73],\n",
    "                  'Score':[580,570,590,660,600],\n",
    "                  'Age':[29,33,37,46,55]}, dtype=float)\n",
    "df"
   ]
  },
  {
   "cell_type": "markdown",
   "id": "1992924a",
   "metadata": {},
   "source": [
    "Compute the covariance matrix and its inverse"
   ]
  },
  {
   "cell_type": "code",
   "execution_count": null,
   "id": "8139837a",
   "metadata": {},
   "outputs": [],
   "source": [
    "import numpy.linalg as LA\n",
    "\n",
    "inv_cov_mat = LA.inv(np.cov(df, rowvar=False))\n",
    "inv_cov_mat.round(2)"
   ]
  },
  {
   "cell_type": "markdown",
   "id": "be6de4b2",
   "metadata": {},
   "source": [
    "Compute the centroid of the dataset"
   ]
  },
  {
   "cell_type": "code",
   "execution_count": null,
   "id": "d4144d94",
   "metadata": {},
   "outputs": [],
   "source": [
    "centroid = df.mean(axis=0)\n",
    "centroid"
   ]
  },
  {
   "cell_type": "markdown",
   "id": "5081098d",
   "metadata": {},
   "source": [
    "Compute MHD and Euclidean distance of the first person in the dataset."
   ]
  },
  {
   "cell_type": "code",
   "execution_count": null,
   "id": "f4a03849",
   "metadata": {},
   "outputs": [],
   "source": [
    "xp = [64, 580, 29]\n",
    "np.sqrt((xp-centroid).T@inv_cov_mat@(xp-centroid))"
   ]
  },
  {
   "cell_type": "markdown",
   "id": "13f6e804",
   "metadata": {},
   "source": [
    "If the data is approximately multivariate normal, the squared Mahalanobis distance is  \n",
    "approximately chi-square with df = # of variables. So, we could set the threshold at  \n",
    "upper 1% or less to flag suspected anomalies."
   ]
  },
  {
   "cell_type": "code",
   "execution_count": null,
   "id": "6b58064d",
   "metadata": {},
   "outputs": [],
   "source": [
    "from scipy import stats\n",
    "\n",
    "outlier_threshold=stats.chi2.isf(0.01, 3)\n",
    "\n",
    "print(f'Outlier threshold: {outlier_threshold:.3f}\\n')"
   ]
  },
  {
   "cell_type": "markdown",
   "id": "7e4886a9",
   "metadata": {},
   "source": [
    "<font color='blue'>Is a person with age 44 years, height 66 inches, and score 640 points \n",
    "unusual from those in the current dataset?</font>"
   ]
  },
  {
   "cell_type": "code",
   "execution_count": null,
   "id": "8ad3f1db",
   "metadata": {},
   "outputs": [],
   "source": [
    "xp = [66, 580, 44]\n",
    "np.sqrt((xp-centroid).T@inv_cov_mat@(xp-centroid))\n"
   ]
  }
 ],
 "metadata": {},
 "nbformat": 4,
 "nbformat_minor": 5
}
