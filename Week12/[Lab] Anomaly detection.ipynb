{
 "cells": [
  {
   "cell_type": "markdown",
   "id": "921f3bbb",
   "metadata": {},
   "source": [
    "# Lab: Anomaly Detection"
   ]
  },
  {
   "cell_type": "code",
   "execution_count": null,
   "id": "6beecf3d",
   "metadata": {},
   "outputs": [],
   "source": [
    "import warnings; \n",
    "warnings.filterwarnings(\"ignore\")\n",
    "warnings.simplefilter(action=\"ignore\",category=UserWarning)\n",
    "warnings.simplefilter(action=\"ignore\",category=FutureWarning)\n",
    "\n",
    "\n",
    "# Interactive plots embedded within the notebook\n",
    "#%matplotlib notebook \n",
    "# Static images of plots embedded within the notebook\n",
    "#%matplotlib inline   \n",
    "%config InlineBackend.figure_formats = {'png', 'retina'}\n",
    "\n",
    "from IPython.core.interactiveshell import InteractiveShell\n",
    "InteractiveShell.ast_node_interactivity = \"all\"\n",
    "\n",
    "from scipy import stats\n",
    "\n",
    "import numpy as np\n",
    "import scipy as sp\n",
    "import matplotlib as mpl\n",
    "import matplotlib.pyplot as plt\n",
    "import seaborn as sns\n",
    "import pandas as pd\n",
    "import statsmodels as stm\n",
    "import statsmodels.api as sm\n",
    "from platform import python_version\n",
    "\n",
    "#pd.options.plotting.backend = \"plotly\" \n",
    "# Conflict with options in original matplotlib.\n",
    "\n",
    "print('Python version', python_version())\n",
    "print('Numpy version', np.__version__)\n",
    "print('Scipy version', sp.__version__)\n",
    "print('Pandas version', pd.__version__)\n",
    "print('Matplotlib version', mpl.__version__)\n",
    "print('Seaborn version', sns.__version__)\n",
    "print('Statsmodels version', stm.__version__)\n",
    "###############################################\n",
    "\n",
    "#plt.style.use('ggplot')\n",
    "plt.style.use('seaborn-v0_8-muted')\n",
    "plt.rcParams['figure.figsize'] = (6, 6)\n",
    "plt.rcParams['grid.linestyle'] = ':'   \n",
    "plt.rcParams['axes.grid'] = False\n",
    "\n",
    "sns.set_style(\"whitegrid\", {'axes.grid' : False})\n",
    "#sns.color_palette(\"RdBu\", n_colors=10)\n",
    "#sns.color_palette(\"RdBu_r') # Good for heatmap"
   ]
  },
  {
   "cell_type": "markdown",
   "id": "eaf72597",
   "metadata": {},
   "source": [
    "# <font color='darkorange'>Part I: MHD for multivariate outlier detection</font>\n",
    "\n",
    "From the diamond dataset (sheet 'Diamond' in anomaly-detection.xlsx), use the columns `carat`, `depth`, and ￼`price`   \n",
    "to determine unususal diamonds from the dataset based on the MHD at 1% threshold."
   ]
  },
  {
   "cell_type": "markdown",
   "id": "c7c50a78",
   "metadata": {},
   "source": [
    "**Mahalanobis distance** (MHD) measures the distance of transformed data point from the \"centroid\" of the dataset taking the covariance of variables into account. <br>\n",
    "The Mahalanobis distance of point $\\mathbf{x} \\in R^k$ in the dataset with mean vector $\\mathbf{\\mu}$ and covariance matrix $\\mathbf{\\Sigma}$ is given by  <br><br>\n",
    "\\begin{equation}\n",
    " M(\\mathbf{x}) = \\sqrt{(\\mathbf{x}-\\mathbf{\\mu})^T \\mathbf{\\Sigma}^{-1}(\\mathbf{x}-\\mathbf{\\mu})}\n",
    "\\end{equation}\n",
    "Basically, the point with higher Mahalanobis distance than typical points in the dataset could be the sign for outliers. <br>\n",
    "So, the distance is used as the outlier score of data points. \n",
    "\n",
    "\n",
    "\n",
    "For multivariate normal data, the squared MHD is $\\chi^2(k)$.  So, the critical value at small $\\alpha$, e.g. 0.001 can be used to flag anomalies. "
   ]
  },
  {
   "cell_type": "markdown",
   "id": "04919c7d",
   "metadata": {},
   "source": [
    "**Define the MHD function**\n",
    "\n",
    "Write a function that computes and returns the MHD for a given datapoint $x$, the mean vector $\\mu$ (centroid) and the covariance matrix.\n",
    "\n",
    "```\n",
    "def MHD(x, mu, cov_mat):\n",
    "    ...\n",
    "    ...\n",
    "```"
   ]
  },
  {
   "cell_type": "code",
   "execution_count": null,
   "id": "65d59056",
   "metadata": {},
   "outputs": [],
   "source": []
  },
  {
   "cell_type": "markdown",
   "id": "97ed1d26",
   "metadata": {},
   "source": [
    "**Load and explore the dataset**\n",
    "\n",
    "Check the histograms and fix the skewed columns. "
   ]
  },
  {
   "cell_type": "code",
   "execution_count": null,
   "id": "ada03f91",
   "metadata": {},
   "outputs": [],
   "source": []
  },
  {
   "cell_type": "code",
   "execution_count": null,
   "id": "0270f3a0",
   "metadata": {},
   "outputs": [],
   "source": []
  },
  {
   "cell_type": "code",
   "execution_count": null,
   "id": "1c47859b",
   "metadata": {},
   "outputs": [],
   "source": []
  },
  {
   "cell_type": "markdown",
   "id": "49d08283",
   "metadata": {},
   "source": [
    "**Determine covariance matrix and centroid of the input data**"
   ]
  },
  {
   "cell_type": "code",
   "execution_count": null,
   "id": "b95e1b71",
   "metadata": {},
   "outputs": [],
   "source": []
  },
  {
   "cell_type": "markdown",
   "id": "18813d1d",
   "metadata": {},
   "source": [
    "**Compute the squared MHD**\n",
    "\n",
    "Determine the squared MHD of all datapoints and save them as a new column.  \n",
    "Then, plot the histogram of the squared MHD.  "
   ]
  },
  {
   "cell_type": "code",
   "execution_count": null,
   "id": "6a43c762",
   "metadata": {},
   "outputs": [],
   "source": []
  },
  {
   "cell_type": "markdown",
   "id": "db29cb9c",
   "metadata": {
    "slideshow": {
     "slide_type": ""
    }
   },
   "source": [
    "**Set the outlier threshold**\n",
    "\n",
    "If the data is approximately multivariate normal, the squared Mahalanobis distance is  \n",
    "approximately chi-square distribution with df = # of variables. \n",
    "So, let's set the outlier threshold to the critical value at $\\alpha=0.001$."
   ]
  },
  {
   "cell_type": "code",
   "execution_count": null,
   "id": "53db3d9a",
   "metadata": {},
   "outputs": [],
   "source": []
  },
  {
   "cell_type": "markdown",
   "id": "a4d21385",
   "metadata": {},
   "source": [
    "**Print rows in the dataset identified as outliers**"
   ]
  },
  {
   "cell_type": "code",
   "execution_count": null,
   "id": "cdd2e4c2",
   "metadata": {},
   "outputs": [],
   "source": []
  },
  {
   "cell_type": "markdown",
   "id": "8087ee5f",
   "metadata": {},
   "source": [
    "<font color=Orange> **Questions**:</font> \n",
    "1. What is the outlier threshold value?\n",
    "2. How many rows are identified as outliers?"
   ]
  },
  {
   "cell_type": "markdown",
   "id": "4206cadc",
   "metadata": {},
   "source": []
  },
  {
   "cell_type": "markdown",
   "id": "5a48e09c",
   "metadata": {},
   "source": [
    "# <font color='darkorange'>Part II: Latent-variable based Anomaly detection</font>\n",
    "\n",
    "The bearing dataset (`BearingTest.csv`) contains the time series data from four sensors. \n",
    "- Use data from '2004-02-12 11:02:39' to '2004-02-13 23:52:39' as the train data and from '2004-02-13 23:52:39' as the test data.\n",
    "- Apply PCA with two PCs to the training data to obtain the latent-variable model.\n",
    "- Plot the histogram of mean absolute error (MAE) from reconstruction errors of individual training data points and set the anomaly threshold to 105% of the maximum MAE.  \n",
    "- Visualize the MAE of train data and test data over time and identify the time when the model detects anomalies. "
   ]
  },
  {
   "cell_type": "markdown",
   "id": "f6dd6776",
   "metadata": {},
   "source": [
    "## Data preprocessing"
   ]
  },
  {
   "cell_type": "markdown",
   "id": "419e8cba",
   "metadata": {},
   "source": [
    "**Load the data set**"
   ]
  },
  {
   "cell_type": "code",
   "execution_count": null,
   "id": "410db4ec",
   "metadata": {},
   "outputs": [],
   "source": []
  },
  {
   "cell_type": "markdown",
   "id": "c5bd865a",
   "metadata": {},
   "source": [
    "**Split the data into train and test sets, and plot them** "
   ]
  },
  {
   "cell_type": "code",
   "execution_count": null,
   "id": "3f0980d2",
   "metadata": {},
   "outputs": [],
   "source": []
  },
  {
   "cell_type": "code",
   "execution_count": null,
   "id": "da7a4838",
   "metadata": {},
   "outputs": [],
   "source": []
  },
  {
   "cell_type": "markdown",
   "id": "2852484f",
   "metadata": {},
   "source": [
    "**Standardize the train set and apply the scaler to the test set**"
   ]
  },
  {
   "cell_type": "code",
   "execution_count": null,
   "id": "05536c94",
   "metadata": {},
   "outputs": [],
   "source": []
  },
  {
   "cell_type": "markdown",
   "id": "87f2cad0",
   "metadata": {},
   "source": [
    "## PCA Model Construction"
   ]
  },
  {
   "cell_type": "markdown",
   "id": "1a7ad896",
   "metadata": {},
   "source": [
    "**Apply PCA with two components to the train data to obtain the train PC scores**"
   ]
  },
  {
   "cell_type": "code",
   "execution_count": null,
   "id": "892a93d1",
   "metadata": {},
   "outputs": [],
   "source": []
  },
  {
   "cell_type": "markdown",
   "id": "9cc8a967",
   "metadata": {},
   "source": [
    "**Use the PCA model to transform the test data to obtain the test PC scores** "
   ]
  },
  {
   "cell_type": "code",
   "execution_count": null,
   "id": "bd39aa26",
   "metadata": {},
   "outputs": [],
   "source": []
  },
  {
   "cell_type": "markdown",
   "id": "5194c96f",
   "metadata": {},
   "source": [
    "## Anomaly Detection with MHD"
   ]
  },
  {
   "cell_type": "markdown",
   "id": "49632add",
   "metadata": {},
   "source": [
    "**Determine squared MHD of train PC scores**"
   ]
  },
  {
   "cell_type": "code",
   "execution_count": null,
   "id": "b7bcf7ee",
   "metadata": {},
   "outputs": [],
   "source": []
  },
  {
   "cell_type": "markdown",
   "id": "05be1eb2",
   "metadata": {},
   "source": [
    "**Visualize the histogram of squared MHD of the train PC scores**"
   ]
  },
  {
   "cell_type": "code",
   "execution_count": null,
   "id": "8e5dcc4f",
   "metadata": {},
   "outputs": [],
   "source": []
  },
  {
   "cell_type": "markdown",
   "id": "f1d7458a",
   "metadata": {},
   "source": [
    "**Set the outlier threshold**\n",
    "\n",
    "If the data is approximately multivariate normal, the squared Mahalanobis distance will be  \n",
    "approximately $\\chi^2$ with df = # of variables. Let's use the critical value at 0.001 as the outlier threshold."
   ]
  },
  {
   "cell_type": "code",
   "execution_count": null,
   "id": "a7d4c2b9",
   "metadata": {},
   "outputs": [],
   "source": []
  },
  {
   "cell_type": "markdown",
   "id": "80b89d15",
   "metadata": {},
   "source": [
    "**Determine squared MHD of test PC scores**"
   ]
  },
  {
   "cell_type": "code",
   "execution_count": null,
   "id": "df52a9e2",
   "metadata": {},
   "outputs": [],
   "source": []
  },
  {
   "cell_type": "markdown",
   "id": "b678cafd",
   "metadata": {},
   "source": [
    "**Visualize the squared MHD of train and test PC against the threshold**.\n",
    "\n"
   ]
  },
  {
   "cell_type": "code",
   "execution_count": null,
   "id": "2e3e8889",
   "metadata": {},
   "outputs": [],
   "source": []
  },
  {
   "cell_type": "markdown",
   "id": "846d110d",
   "metadata": {},
   "source": [
    "<font color=Orange> **Questions**:</font> \n",
    "1. What is the outlier threshold value?\n",
    "2. From the plot, approximately at what datetime the model detects anomalies that could lead to equipment failure? "
   ]
  },
  {
   "cell_type": "markdown",
   "id": "dad52e60",
   "metadata": {},
   "source": []
  },
  {
   "cell_type": "markdown",
   "id": "55bfca99",
   "metadata": {},
   "source": [
    "## Anomaly Detection with Reconstruction Errors \n",
    "\n",
    "In this approach, the inversed transform of PC scores are compared to the original data and the reconstruction errors are determined.  \n",
    "The Mean Absolute Error (MAE) metric will be used to measure the reconstruction errors, which are the outlier scores of data points.  \n",
    "The outlier threshold is derived based on the MAE of train data.   "
   ]
  },
  {
   "cell_type": "markdown",
   "id": "6edacfd2",
   "metadata": {},
   "source": [
    "Determine the inverse-transform of the train PC scores.\n",
    "Then, compute the MAE of the reconstructed data and the train data. "
   ]
  },
  {
   "cell_type": "code",
   "execution_count": null,
   "id": "01a73946",
   "metadata": {},
   "outputs": [],
   "source": []
  },
  {
   "cell_type": "markdown",
   "id": "8fdeb475",
   "metadata": {},
   "source": [
    "Plot the MAE of the reconstructed data and the train data. "
   ]
  },
  {
   "cell_type": "code",
   "execution_count": null,
   "id": "fd4d97f7",
   "metadata": {},
   "outputs": [],
   "source": []
  },
  {
   "cell_type": "markdown",
   "id": "eefc5187",
   "metadata": {},
   "source": [
    "Set the outlier threshold as 110% of the maximum MAE."
   ]
  },
  {
   "cell_type": "code",
   "execution_count": null,
   "id": "dff8501d",
   "metadata": {},
   "outputs": [],
   "source": []
  },
  {
   "cell_type": "markdown",
   "id": "0dd3953f",
   "metadata": {},
   "source": [
    "**Determine the MAE of test PC data**"
   ]
  },
  {
   "cell_type": "code",
   "execution_count": null,
   "id": "afeb7ab3",
   "metadata": {},
   "outputs": [],
   "source": []
  },
  {
   "cell_type": "markdown",
   "id": "83801eb6",
   "metadata": {},
   "source": [
    "**Visualize the MAE of train and test data against the threshold**."
   ]
  },
  {
   "cell_type": "code",
   "execution_count": null,
   "id": "542e7dc8",
   "metadata": {},
   "outputs": [],
   "source": []
  },
  {
   "cell_type": "markdown",
   "id": "0a5b5af0",
   "metadata": {},
   "source": [
    "<font color=Orange> **Questions**:</font> \n",
    "1. What is the outlier threshold value?\n",
    "2. From the plot, approximately at what datetime the model detects anomalies that could lead to equipment failure? \n",
    "3. From the plot, How is the model that uses reconstruction errors different from that using MHD? "
   ]
  },
  {
   "cell_type": "markdown",
   "id": "7d26ec87",
   "metadata": {},
   "source": []
  }
 ],
 "metadata": {},
 "nbformat": 4,
 "nbformat_minor": 5
}
