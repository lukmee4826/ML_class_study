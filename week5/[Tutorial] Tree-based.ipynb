{
 "cells": [
  {
   "cell_type": "code",
   "execution_count": null,
   "id": "7c1f0032",
   "metadata": {},
   "outputs": [],
   "source": [
    "import warnings\n",
    "\n",
    "warnings.filterwarnings(\"ignore\")\n",
    "warnings.simplefilter(action=\"ignore\",category=UserWarning)\n",
    "warnings.simplefilter(action=\"ignore\",category=FutureWarning)\n",
    "\n",
    "# Suppress valuewarning when fitting ARIMA model.\n",
    "from statsmodels.tools.sm_exceptions import ValueWarning\n",
    "warnings.simplefilter('ignore', ValueWarning)\n",
    "\n",
    "\n",
    "# Interactive plots embedded within the notebook\n",
    "#%matplotlib notebook \n",
    "# Static images of plots embedded within the notebook  \n",
    "%config InlineBackend.figure_formats = {'png', 'retina'}\n",
    "\n",
    "from IPython.core.interactiveshell import InteractiveShell\n",
    "InteractiveShell.ast_node_interactivity = \"all\"\n",
    "\n",
    "from platform import python_version\n",
    "import numpy as np\n",
    "import scipy as sp\n",
    "import matplotlib as mpl\n",
    "import matplotlib.pyplot as plt\n",
    "import seaborn as sns\n",
    "import pandas as pd\n",
    "import statsmodels as stm\n",
    "import sklearn as skl\n",
    "\n",
    "\n",
    "print('Python version', python_version())\n",
    "print('Numpy version', np.__version__)\n",
    "print('Scipy version', sp.__version__)\n",
    "print('Pandas version', pd.__version__)\n",
    "print('Matplotlib version', mpl.__version__)\n",
    "print('Seaborn version', sns.__version__)\n",
    "print('Statsmodels version', stm.__version__)\n",
    "print('Scikit-learn version', skl.__version__)"
   ]
  },
  {
   "cell_type": "markdown",
   "id": "ad7c6098",
   "metadata": {},
   "source": [
    "# Decision Tree "
   ]
  },
  {
   "cell_type": "markdown",
   "id": "b5e58433",
   "metadata": {},
   "source": [
    "## Load data"
   ]
  },
  {
   "cell_type": "code",
   "execution_count": 2,
   "id": "6e7bf861",
   "metadata": {},
   "outputs": [],
   "source": [
    "import pandas as pd\n",
    "enroll_df = pd.read_excel('data/supervised-learning.xlsx', sheet_name='ENROLL')"
   ]
  },
  {
   "cell_type": "markdown",
   "id": "70fa3288",
   "metadata": {},
   "source": [
    "<font color='blue'>Look at the first few rows"
   ]
  },
  {
   "cell_type": "code",
   "execution_count": null,
   "id": "b735eaa3",
   "metadata": {},
   "outputs": [],
   "source": []
  },
  {
   "cell_type": "markdown",
   "id": "d8d04c71",
   "metadata": {},
   "source": [
    "<font color='blue'>Inspect basic information of dataset"
   ]
  },
  {
   "cell_type": "code",
   "execution_count": null,
   "id": "843d0c06",
   "metadata": {},
   "outputs": [],
   "source": []
  },
  {
   "cell_type": "markdown",
   "id": "378b47df",
   "metadata": {},
   "source": [
    "<font color='blue'> Look at unique values of categorical columns to determine appropriate encoding\n"
   ]
  },
  {
   "cell_type": "code",
   "execution_count": null,
   "id": "f2dd4fa1",
   "metadata": {},
   "outputs": [],
   "source": []
  },
  {
   "cell_type": "markdown",
   "id": "46beaa9a",
   "metadata": {},
   "source": [
    "## Data preprocessing"
   ]
  },
  {
   "cell_type": "code",
   "execution_count": null,
   "id": "48021608",
   "metadata": {},
   "outputs": [],
   "source": [
    "\n",
    "# Rename columns\n",
    "enroll_df.rename({'Jobsatisfaction': 'JobSat', 'Enrolls':'Target'}, axis=1, inplace=True)\n",
    "enroll_df"
   ]
  },
  {
   "cell_type": "code",
   "execution_count": 4,
   "id": "c8b5fa14",
   "metadata": {},
   "outputs": [],
   "source": [
    "df = enroll_df.copy()"
   ]
  },
  {
   "cell_type": "markdown",
   "id": "a4b50847",
   "metadata": {},
   "source": [
    "<font color='blue'>One-hot encoding of columns `JobSat` and `Desire`"
   ]
  },
  {
   "cell_type": "code",
   "execution_count": null,
   "id": "49d8b7a7",
   "metadata": {},
   "outputs": [],
   "source": [
    "from sklearn.preprocessing import OneHotEncoder\n",
    "\n",
    "enc_onehot = OneHotEncoder(handle_unknown='ignore', \n",
    "                           drop='if_binary', dtype=int)\n",
    "onehot_columns = ['JobSat','Desire']\n",
    "\n",
    "onehot_data = enc_onehot.fit_transform(df[onehot_columns])\n",
    "\n",
    "onehot_df = pd.DataFrame(onehot_data.toarray(), \n",
    "                         columns=enc_onehot.get_feature_names_out())\n",
    "onehot_df\n"
   ]
  },
  {
   "cell_type": "markdown",
   "id": "783c618d",
   "metadata": {},
   "source": [
    "Concatenate one-hot encoding columns to the input dataframe"
   ]
  },
  {
   "cell_type": "code",
   "execution_count": null,
   "id": "46f5e36b",
   "metadata": {},
   "outputs": [],
   "source": [
    "df = df.drop(onehot_columns, axis=1); \n",
    "df = pd.concat([df, onehot_df], axis=1)\n",
    "df"
   ]
  },
  {
   "cell_type": "markdown",
   "id": "db9dcbbc",
   "metadata": {},
   "source": [
    "Ordinal encoding of columns `Age`, `Income`, `Target`"
   ]
  },
  {
   "cell_type": "code",
   "execution_count": null,
   "id": "a03f3cdb",
   "metadata": {},
   "outputs": [],
   "source": [
    "from sklearn.preprocessing import OrdinalEncoder\n",
    "import numpy as np\n",
    "\n",
    "ord_columns = ['Age', 'Income']\n",
    "\n",
    "# Specify the label order to encode \n",
    "Age_cat = ['<=30', '31 to 40', '>40']\n",
    "Income_cat = ['Low', 'Medium', 'High']\n",
    "\n",
    "enc_ord = OrdinalEncoder(categories=[Age_cat, Income_cat], dtype=np.int64)\n",
    "\n",
    "df[ord_columns] = enc_ord.fit_transform(df[ord_columns])\n",
    "df"
   ]
  },
  {
   "cell_type": "markdown",
   "id": "61f55871",
   "metadata": {},
   "source": [
    "Separate feature set and target variable"
   ]
  },
  {
   "cell_type": "code",
   "execution_count": null,
   "id": "540e28dd",
   "metadata": {},
   "outputs": [],
   "source": [
    "X = df.drop('Target', axis=1)\n",
    "Y = df[['Target']]\n",
    "X\n",
    "Y"
   ]
  },
  {
   "cell_type": "markdown",
   "id": "22d8fadf",
   "metadata": {},
   "source": [
    "## Model fitting and prediction"
   ]
  },
  {
   "cell_type": "markdown",
   "id": "06de31c7",
   "metadata": {},
   "source": [
    "<font color='blue'>Fit the decision tree model to the train data"
   ]
  },
  {
   "cell_type": "code",
   "execution_count": 11,
   "id": "71e6f659",
   "metadata": {},
   "outputs": [],
   "source": []
  },
  {
   "cell_type": "markdown",
   "id": "84773270",
   "metadata": {},
   "source": [
    "### Use the fitted model to predict"
   ]
  },
  {
   "cell_type": "code",
   "execution_count": null,
   "id": "8e7e8501",
   "metadata": {},
   "outputs": [],
   "source": [
    "# See the features used in the model and their label \n",
    "dt_clf.feature_names_in_\n",
    "enc_ord.categories_\n",
    "enc_onehot.categories_"
   ]
  },
  {
   "cell_type": "markdown",
   "id": "8e53a35d",
   "metadata": {},
   "source": [
    "Use the encoders created earlier to construct the input for the model"
   ]
  },
  {
   "cell_type": "code",
   "execution_count": null,
   "id": "6a342a06",
   "metadata": {},
   "outputs": [],
   "source": [
    "# Encode the input {Age > 40, Income='Medium', JobSat='No', Desire='Excellent'} \n",
    "Xnew = enc_ord.transform([['>40', 'Medium']]) \n",
    "Xnew = np.hstack((Xnew, enc_onehot.transform([['No', 'Excellent']]).toarray()))\n",
    "Xnew"
   ]
  },
  {
   "cell_type": "markdown",
   "id": "06710dfb",
   "metadata": {},
   "source": [
    "Predict the target label and its probability"
   ]
  },
  {
   "cell_type": "code",
   "execution_count": null,
   "id": "51604ddc",
   "metadata": {},
   "outputs": [],
   "source": [
    "# Make the prediction \n",
    "dt_clf.predict(Xnew) \n",
    "dt_clf.predict_proba(Xnew)"
   ]
  },
  {
   "cell_type": "markdown",
   "id": "96a20e5a",
   "metadata": {},
   "source": [
    "## Evaluate performance"
   ]
  },
  {
   "cell_type": "markdown",
   "id": "c6aaec5d",
   "metadata": {},
   "source": [
    "<font color='blue'>Determine the classification report for the train data"
   ]
  },
  {
   "cell_type": "code",
   "execution_count": null,
   "id": "d26b2d2e",
   "metadata": {},
   "outputs": [],
   "source": []
  },
  {
   "cell_type": "markdown",
   "id": "8852adfe",
   "metadata": {},
   "source": [
    "## Visualizing rules and tree"
   ]
  },
  {
   "cell_type": "code",
   "execution_count": null,
   "id": "b56a3796",
   "metadata": {},
   "outputs": [],
   "source": [
    "dt_clf.feature_names_in_"
   ]
  },
  {
   "cell_type": "code",
   "execution_count": null,
   "id": "5ec35517",
   "metadata": {},
   "outputs": [],
   "source": [
    "from sklearn import tree\n",
    "\n",
    "text_representation = tree.export_text(dt_clf, \n",
    "                                       feature_names=dt_clf.feature_names_in_.tolist())\n",
    "print(text_representation)"
   ]
  },
  {
   "cell_type": "markdown",
   "id": "7bdbc5bd",
   "metadata": {},
   "source": [
    "(Optional) Install necessary packages by running the following commands in the terminal:\n",
    "\n",
    "`conda install python-graphviz`  \n",
    "`pip install pydotplus`"
   ]
  },
  {
   "cell_type": "code",
   "execution_count": null,
   "id": "6927e3bc",
   "metadata": {},
   "outputs": [],
   "source": [
    "import graphviz\n",
    "from sklearn import tree\n",
    "\n",
    "dot_data = tree.export_graphviz(dt_clf, out_file=None,\n",
    "                           feature_names=X.columns,\n",
    "                           class_names=enroll_df['Target'].unique(), impurity=False,\n",
    "                           filled=True, rounded=True, proportion=True)\n",
    "# Draw graph\n",
    "graph = graphviz.Source(dot_data, format='png')  \n",
    "graph\n",
    "\n",
    "# graph = graphviz.Source(dot_data)  \n",
    "# graph.render('enroll', format='png', view=True)"
   ]
  },
  {
   "cell_type": "markdown",
   "id": "6b8c1c15",
   "metadata": {},
   "source": [
    "## Feature Importance"
   ]
  },
  {
   "cell_type": "markdown",
   "id": "32e77dfd",
   "metadata": {},
   "source": [
    "<font color='blue'>Create a list of feature importance and sort."
   ]
  },
  {
   "cell_type": "code",
   "execution_count": null,
   "id": "3078f501",
   "metadata": {},
   "outputs": [],
   "source": [
    "feature_list = pd.DataFrame({'feature':X.columns, 'value':dt_clf.feature_importances_})\n",
    "feature_list_sorted = feature_list.sort_values('value')\n",
    "feature_list_sorted"
   ]
  },
  {
   "cell_type": "markdown",
   "id": "359ec5c1",
   "metadata": {},
   "source": [
    "Plot the feature importance"
   ]
  },
  {
   "cell_type": "code",
   "execution_count": null,
   "id": "106d0396",
   "metadata": {},
   "outputs": [],
   "source": [
    "import matplotlib.pyplot as plt\n",
    "\n",
    "plt.figure(figsize=(7,3))\n",
    "plt.barh(range(0,len(feature_list_sorted.index)), \n",
    "         feature_list_sorted.value, tick_label=feature_list_sorted.feature)\n",
    "plt.tight_layout();"
   ]
  }
 ],
 "metadata": {
  "kernelspec": {
   "display_name": "base",
   "language": "python",
   "name": "python3"
  },
  "language_info": {
   "codemirror_mode": {
    "name": "ipython",
    "version": 3
   },
   "file_extension": ".py",
   "mimetype": "text/x-python",
   "name": "python",
   "nbconvert_exporter": "python",
   "pygments_lexer": "ipython3",
   "version": "3.12.7"
  }
 },
 "nbformat": 4,
 "nbformat_minor": 5
}
