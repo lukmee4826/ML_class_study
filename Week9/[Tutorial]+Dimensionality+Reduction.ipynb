{
 "cells": [
  {
   "cell_type": "code",
   "execution_count": null,
   "id": "b7bae2c7",
   "metadata": {},
   "outputs": [],
   "source": [
    "import warnings; \n",
    "warnings.filterwarnings(\"ignore\")\n",
    "warnings.simplefilter(action=\"ignore\",category=UserWarning)\n",
    "warnings.simplefilter(action=\"ignore\",category=FutureWarning)\n",
    "\n",
    "# Suppress valuewarning when fitting ARIMA model.\n",
    "from statsmodels.tools.sm_exceptions import ValueWarning\n",
    "warnings.simplefilter('ignore', ValueWarning)\n",
    "\n",
    "\n",
    "# Interactive plots embedded within the notebook\n",
    "#%matplotlib notebook \n",
    "# Static images of plots embedded within the notebook\n",
    "#%matplotlib inline   \n",
    "%config InlineBackend.figure_formats = {'png', 'retina'}\n",
    "\n",
    "from IPython.core.interactiveshell import InteractiveShell\n",
    "InteractiveShell.ast_node_interactivity = \"all\"\n",
    "\n",
    "from scipy import stats\n",
    "\n",
    "import numpy as np\n",
    "import scipy as sp\n",
    "import matplotlib as mpl\n",
    "import matplotlib.pyplot as plt\n",
    "import seaborn as sns\n",
    "import pandas as pd\n",
    "import statsmodels as sm\n",
    "import sklearn as skl\n",
    "from platform import python_version\n",
    "\n",
    "#pd.options.plotting.backend = \"plotly\" \n",
    "# Conflict with options in original matplotlib.\n",
    "\n",
    "print('Python version', python_version())\n",
    "print('Numpy version', np.__version__)\n",
    "print('Scipy version', sp.__version__)\n",
    "print('Pandas version', pd.__version__)\n",
    "print('Matplotlib version', mpl.__version__)\n",
    "print('Seaborn version', sns.__version__)\n",
    "print('Statsmodels version', sm.__version__)\n",
    "###############################################\n",
    "\n",
    "#plt.style.use('ggplot')\n",
    "plt.style.use('seaborn-v0_8-muted')\n",
    "plt.rcParams['figure.figsize'] = (6, 6)\n",
    "plt.rcParams['grid.linestyle'] = ':'   \n",
    "plt.rcParams['axes.grid'] = False\n",
    "\n",
    "sns.set_style(\"whitegrid\", {'axes.grid' : False})\n",
    "#sns.color_palette(\"RdBu\", n_colors=10)\n",
    "#sns.color_palette(\"RdBu_r') # Good for heatmap\n"
   ]
  },
  {
   "cell_type": "markdown",
   "id": "453ab69b",
   "metadata": {},
   "source": [
    "# Eigenvalues and Eigenvectors"
   ]
  },
  {
   "cell_type": "code",
   "execution_count": null,
   "id": "352c28e5",
   "metadata": {
    "scrolled": true
   },
   "outputs": [],
   "source": [
    "import numpy as np\n",
    "\n",
    "np.set_printoptions(suppress=True,precision=4)\n",
    "\n",
    "A = np.array([[1,-2],[1,4]])\n",
    "A"
   ]
  },
  {
   "cell_type": "markdown",
   "id": "bfb95a89",
   "metadata": {},
   "source": [
    "Determine eigenpair of square matrix $A$"
   ]
  },
  {
   "cell_type": "code",
   "execution_count": null,
   "id": "09cd5c00",
   "metadata": {},
   "outputs": [],
   "source": [
    "egval,egvec = np.linalg.eig(A)\n",
    "print(egval)\n",
    "print(egvec)"
   ]
  },
  {
   "cell_type": "markdown",
   "id": "a4cdef7f",
   "metadata": {},
   "source": [
    "Determine norms of the eigenvectors"
   ]
  },
  {
   "cell_type": "code",
   "execution_count": null,
   "id": "9da042b1",
   "metadata": {},
   "outputs": [],
   "source": [
    "np.linalg.norm(egvec[:,0])\n",
    "np.linalg.norm(egvec[:,1])"
   ]
  },
  {
   "cell_type": "markdown",
   "id": "8fd5bb38",
   "metadata": {},
   "source": [
    "Try 3x3 matrix"
   ]
  },
  {
   "cell_type": "code",
   "execution_count": null,
   "id": "28a668f9",
   "metadata": {},
   "outputs": [],
   "source": [
    "A = np.array([[6,-2,-1],[-2,6,-1],[-1,-1,5]])"
   ]
  },
  {
   "cell_type": "markdown",
   "id": "d8fbe17a",
   "metadata": {},
   "source": [
    "Determine eigenpair of square matrix $A$ and norms of the eigenvectors"
   ]
  },
  {
   "cell_type": "code",
   "execution_count": null,
   "id": "f4073a46",
   "metadata": {},
   "outputs": [],
   "source": [
    "egval,egvec = np.linalg.eig(A)\n",
    "print(egval)\n",
    "print(egvec)\n",
    "np.linalg.norm(egvec[:,0])\n",
    "np.linalg.norm(egvec[:,1])"
   ]
  }
 ],
 "metadata": {
  "kernelspec": {
   "display_name": "Python 3 (ipykernel)",
   "language": "python",
   "name": "python3"
  },
  "language_info": {
   "codemirror_mode": {
    "name": "ipython",
    "version": 3
   },
   "file_extension": ".py",
   "mimetype": "text/x-python",
   "name": "python",
   "nbconvert_exporter": "python",
   "pygments_lexer": "ipython3",
   "version": "3.11.9"
  }
 },
 "nbformat": 4,
 "nbformat_minor": 5
}
